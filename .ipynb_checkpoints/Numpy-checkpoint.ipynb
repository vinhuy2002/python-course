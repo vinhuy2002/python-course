{
 "cells": [
  {
   "cell_type": "code",
   "execution_count": 20,
   "id": "b6a28ba3-7c56-498f-9a80-8a47e91ebec4",
   "metadata": {},
   "outputs": [
    {
     "name": "stdout",
     "output_type": "stream",
     "text": [
      "Array of 5 zeros:  [0 0 0 0 0]\n",
      "Array of 10 ones:  [1 1 1 1 1 1 1 1 1 1]\n",
      "Array of 5 3.141:  [3.141 3.141 3.141 3.141 3.141]\n",
      "Array of the integers 1 to 20:  [ 1  2  3  4  5  6  7  8  9 10 11 12 13 14 15 16 17 18 19 20]\n",
      "5x5 matrix of ones: \n",
      " [[1 1 1 1 1]\n",
      " [1 1 1 1 1]\n",
      " [1 1 1 1 1]\n",
      " [1 1 1 1 1]\n",
      " [1 1 1 1 1]]\n"
     ]
    }
   ],
   "source": [
    "# 2.1\n",
    "import numpy as np\n",
    "arr1 = np.zeros(5, dtype = int)\n",
    "print(\"Array of 5 zeros: \", arr1)\n",
    "arr2 = np.ones(10, dtype = int)\n",
    "print(\"Array of 10 ones: \", arr2)\n",
    "arr3 = np.full(5, 3.141)\n",
    "print(\"Array of 5 3.141: \", arr3)\n",
    "arr4 = np.arange(1, 21, 1, dtype = int)\n",
    "print(\"Array of the integers 1 to 20: \",arr4)\n",
    "arr5 = np.ones((5,5), dtype = int)\n",
    "print(\"5x5 matrix of ones: \\n\", arr5)"
   ]
  },
  {
   "cell_type": "code",
   "execution_count": 21,
   "id": "6edb3677-29b9-4f61-8ef5-d6f504b3b44e",
   "metadata": {},
   "outputs": [
    {
     "name": "stdout",
     "output_type": "stream",
     "text": [
      "[ 1.          1.47368421  1.94736842  2.42105263  2.89473684  3.36842105\n",
      "  3.84210526  4.31578947  4.78947368  5.26315789  5.73684211  6.21052632\n",
      "  6.68421053  7.15789474  7.63157895  8.10526316  8.57894737  9.05263158\n",
      "  9.52631579 10.        ]\n"
     ]
    }
   ],
   "source": [
    "# 2.3\n",
    "arr = np.linspace(1, 10, 20)\n",
    "print(arr)"
   ]
  },
  {
   "cell_type": "code",
   "execution_count": 39,
   "id": "b81e9f1e-209d-4af1-b5fb-b0475ae36bf0",
   "metadata": {},
   "outputs": [
    {
     "name": "stdout",
     "output_type": "stream",
     "text": [
      "[[0.05828299 0.01142964 0.75121895 0.50338049 0.74136755 0.77165263]\n",
      " [0.95317643 0.6829745  0.1206192  0.99752093 0.90624954 0.82297537]\n",
      " [0.7397902  0.12309469 0.48797847 0.55886566 0.748348   0.28554272]\n",
      " [0.23430839 0.97506769 0.82179627 0.40645944 0.73073299 0.72088866]\n",
      " [0.59167957 0.20223813 0.7465735  0.16102097 0.24120121 0.05411977]\n",
      " [0.11409102 0.37546501 0.09515138 0.21772258 0.18898841 0.00193249]]\n",
      "Rows 0, 1, 2: \n",
      " [[0.05828299 0.01142964 0.75121895 0.50338049 0.74136755 0.77165263]\n",
      " [0.95317643 0.6829745  0.1206192  0.99752093 0.90624954 0.82297537]\n",
      " [0.7397902  0.12309469 0.48797847 0.55886566 0.748348   0.28554272]]\n",
      "Rows 0, 1, 5: \n",
      " [[0.05828299 0.01142964 0.75121895 0.50338049 0.74136755 0.77165263]\n",
      " [0.95317643 0.6829745  0.1206192  0.99752093 0.90624954 0.82297537]\n",
      " [0.11409102 0.37546501 0.09515138 0.21772258 0.18898841 0.00193249]]\n",
      "Columns 0, 1, 2: \n",
      " [[0.05828299 0.01142964 0.75121895]\n",
      " [0.95317643 0.6829745  0.1206192 ]\n",
      " [0.7397902  0.12309469 0.48797847]\n",
      " [0.23430839 0.97506769 0.82179627]\n",
      " [0.59167957 0.20223813 0.7465735 ]\n",
      " [0.11409102 0.37546501 0.09515138]]\n",
      "Columns 0, 1, 3: \n",
      " [[0.05828299 0.01142964 0.50338049]\n",
      " [0.95317643 0.6829745  0.99752093]\n",
      " [0.7397902  0.12309469 0.55886566]\n",
      " [0.23430839 0.97506769 0.40645944]\n",
      " [0.59167957 0.20223813 0.16102097]\n",
      " [0.11409102 0.37546501 0.21772258]]\n",
      "Columns 0, 1, 2 and Rows 2, 3: \n",
      " [[0.7397902  0.12309469 0.48797847]\n",
      " [0.23430839 0.97506769 0.82179627]]\n",
      "Odd rows and evens column: \n",
      " [[0.01142964 0.50338049 0.77165263]\n",
      " [0.12309469 0.55886566 0.28554272]\n",
      " [0.20223813 0.16102097 0.05411977]]\n"
     ]
    }
   ],
   "source": [
    "# 2.4\n",
    "arr = np.random.random(size=(6,6))\n",
    "print(arr)\n",
    "print(\"Rows 0, 1, 2: \\n\", arr[:3, :])\n",
    "print(\"Rows 0, 1, 5: \\n\", arr[[0,1,5], :])\n",
    "print(\"Columns 0, 1, 2: \\n\", arr[:, :3])\n",
    "print(\"Columns 0, 1, 3: \\n\", arr[:, [0,1,3]])\n",
    "print(\"Columns 0, 1, 2 and Rows 2, 3: \\n\", arr[2:4, :3])\n",
    "print(\"Odd rows and evens column: \\n\", arr[::2, 1::2])"
   ]
  },
  {
   "cell_type": "code",
   "execution_count": 25,
   "id": "0c8b999d-3f59-4698-9c19-934534efa25e",
   "metadata": {},
   "outputs": [
    {
     "name": "stdout",
     "output_type": "stream",
     "text": [
      "Before: \n",
      " [[0. 0. 0. 0. 0.]\n",
      " [0. 0. 0. 0. 0.]\n",
      " [0. 0. 0. 0. 0.]\n",
      " [0. 0. 0. 0. 0.]\n",
      " [0. 0. 0. 0. 0.]]\n",
      "After: \n",
      " [[0. 0. 0. 0. 0.]\n",
      " [0. 1. 1. 1. 0.]\n",
      " [0. 1. 1. 1. 0.]\n",
      " [0. 1. 1. 1. 0.]\n",
      " [0. 0. 0. 0. 0.]]\n"
     ]
    }
   ],
   "source": [
    "# 2.5\n",
    "arrOnes = np.zeros((5,5))\n",
    "print(\"Before: \\n\", arrOnes)\n",
    "arrOnes[1:-1, 1:-1] = 1\n",
    "print(\"After: \\n\", arrOnes)"
   ]
  },
  {
   "cell_type": "code",
   "execution_count": 41,
   "id": "1e4017a7-03bb-4761-93e5-93cb5cb194ed",
   "metadata": {},
   "outputs": [
    {
     "data": {
      "text/plain": [
       "array([[ 1,  2,  3,  4,  5],\n",
       "       [ 6,  7,  8,  9, 10],\n",
       "       [11, 12, 13, 14, 15],\n",
       "       [16, 17, 18, 19, 20],\n",
       "       [21, 22, 23, 24, 25]])"
      ]
     },
     "execution_count": 41,
     "metadata": {},
     "output_type": "execute_result"
    }
   ],
   "source": [
    "# 2.6\n",
    "a = np.arange(1, 26).reshape(5, -1)\n",
    "a[-1:]"
   ]
  },
  {
   "cell_type": "code",
   "execution_count": null,
   "id": "4d8a5020-660d-4246-a991-c74192d823de",
   "metadata": {},
   "outputs": [],
   "source": []
  }
 ],
 "metadata": {
  "kernelspec": {
   "display_name": "Python 3 (ipykernel)",
   "language": "python",
   "name": "python3"
  },
  "language_info": {
   "codemirror_mode": {
    "name": "ipython",
    "version": 3
   },
   "file_extension": ".py",
   "mimetype": "text/x-python",
   "name": "python",
   "nbconvert_exporter": "python",
   "pygments_lexer": "ipython3",
   "version": "3.11.5"
  }
 },
 "nbformat": 4,
 "nbformat_minor": 5
}
