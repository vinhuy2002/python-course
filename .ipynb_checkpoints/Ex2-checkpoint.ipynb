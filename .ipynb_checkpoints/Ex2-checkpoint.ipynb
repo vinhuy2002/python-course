{
 "cells": [
  {
   "cell_type": "code",
   "execution_count": 2,
   "id": "809f891b",
   "metadata": {},
   "outputs": [
    {
     "name": "stdout",
     "output_type": "stream",
     "text": [
      "length: 4\n",
      "height: 5\n",
      "area of a triangle:  10.0\n"
     ]
    }
   ],
   "source": [
    "# 2.1\n",
    "b = int(input(\"length: \"))\n",
    "h = int(input(\"height: \"))\n",
    "area = (b*h)/2\n",
    "print(\"area of a triangle: \", area)"
   ]
  },
  {
   "cell_type": "code",
   "execution_count": 4,
   "id": "01d4153c",
   "metadata": {},
   "outputs": [
    {
     "name": "stdout",
     "output_type": "stream",
     "text": [
      "Latitude 1: 50\n",
      "Longitude 1: 30\n",
      "Latitude 2: 60\n",
      "Longitude 2: 100\n",
      "Distance:  4375.025636888268  KM\n"
     ]
    }
   ],
   "source": [
    "# 2.2\n",
    "# \n",
    "import math\n",
    "lat1 = float(input(\"Latitude 1: \"))\n",
    "lon1 = float(input(\"Longitude 1: \"))\n",
    "\n",
    "lat2 = float(input(\"Latitude 2: \"))\n",
    "lon2 = float(input(\"Longitude 2: \"))\n",
    "\n",
    "radLat1 = math.radians(lat1)\n",
    "radLat2 = math.radians(lat2)\n",
    "radLon = math.radians(lon2-lon1)\n",
    "\n",
    "distance = math.acos(math.sin(radLat1)*math.sin(radLat2) + math.cos(radLat1)*math.cos(radLat2)*math.cos(radLon))*6371.01\n",
    "print(\"Distance: \", distance, \" KM\")"
   ]
  },
  {
   "cell_type": "code",
   "execution_count": 5,
   "id": "f34ff63f",
   "metadata": {},
   "outputs": [
    {
     "name": "stdout",
     "output_type": "stream",
     "text": [
      "Days: 3\n",
      "Hours: 3\n",
      "Minutes: 3\n",
      "Seconds: 60\n",
      "Total seconds:  270240\n"
     ]
    }
   ],
   "source": [
    "# 2.3\n",
    "days = int(input(\"Days: \"))\n",
    "hours = int(input(\"Hours: \"))\n",
    "minutes = int(input(\"Minutes: \"))\n",
    "seconds = int(input(\"Seconds: \"))\n",
    "\n",
    "totalSeconds = days*24*3600 + hours*3600 + minutes*60 + seconds\n",
    "print(\"Total seconds: \", totalSeconds)"
   ]
  },
  {
   "cell_type": "code",
   "execution_count": 6,
   "id": "43620c38",
   "metadata": {},
   "outputs": [
    {
     "name": "stdout",
     "output_type": "stream",
     "text": [
      "Celsius: 45\n",
      "Fahrenheit:  113.0\n",
      "Kelvin:  318.15\n"
     ]
    }
   ],
   "source": [
    "# 2.4\n",
    "celsius = float(input(\"Celsius: \"))\n",
    "\n",
    "print(\"Fahrenheit: \", celsius * (9/5) + 32)\n",
    "print(\"Kelvin: \", celsius + 273.15)"
   ]
  },
  {
   "cell_type": "code",
   "execution_count": 15,
   "id": "bc069b34",
   "metadata": {},
   "outputs": [
    {
     "name": "stdout",
     "output_type": "stream",
     "text": [
      "Color number: 900\n",
      "None\n"
     ]
    }
   ],
   "source": [
    "# 2.5\n",
    "color = int(input(\"Color number: \"))\n",
    "\n",
    "if (color < 380):\n",
    "    print(\"None\")\n",
    "elif (color < 450):\n",
    "    print(\"Violet\")\n",
    "elif (color < 495):\n",
    "    print(\"Blue\")\n",
    "elif (color < 570):\n",
    "    print(\"Green\")\n",
    "elif (color < 590):\n",
    "    print(\"Yellow\")\n",
    "elif (color < 620):\n",
    "    print(\"Orange\")\n",
    "elif (color <= 750):\n",
    "    print(\"Red\")\n",
    "else:\n",
    "    print(\"None\")"
   ]
  },
  {
   "cell_type": "code",
   "execution_count": 24,
   "id": "ee26e125",
   "metadata": {},
   "outputs": [
    {
     "name": "stdout",
     "output_type": "stream",
     "text": [
      "Celsius Fahrenheit\n",
      "0 \t 32.0\n",
      "10 \t 50.0\n",
      "20 \t 68.0\n",
      "30 \t 86.0\n",
      "40 \t 104.0\n",
      "50 \t 122.0\n",
      "60 \t 140.0\n",
      "70 \t 158.0\n",
      "80 \t 176.0\n",
      "90 \t 194.0\n",
      "100 \t 212.0\n"
     ]
    }
   ],
   "source": [
    "# 2.6\n",
    "print(\"Celsius Fahrenheit\")\n",
    "for i in range(0, 101, 10):\n",
    "    print(i, \"\\t\", i*1.8+32)"
   ]
  },
  {
   "cell_type": "code",
   "execution_count": null,
   "id": "6a6595b2",
   "metadata": {},
   "outputs": [],
   "source": [
    "# 2.7\n",
    "n = 8\n",
    "for i in range(n):\n",
    "    "
   ]
  }
 ],
 "metadata": {
  "kernelspec": {
   "display_name": "Python 3 (ipykernel)",
   "language": "python",
   "name": "python3"
  },
  "language_info": {
   "codemirror_mode": {
    "name": "ipython",
    "version": 3
   },
   "file_extension": ".py",
   "mimetype": "text/x-python",
   "name": "python",
   "nbconvert_exporter": "python",
   "pygments_lexer": "ipython3",
   "version": "3.11.4"
  }
 },
 "nbformat": 4,
 "nbformat_minor": 5
}
