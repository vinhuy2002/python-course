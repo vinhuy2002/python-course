{
 "cells": [
  {
   "cell_type": "code",
   "execution_count": 37,
   "id": "b6b79be8-332d-4502-9caf-2990872d47c3",
   "metadata": {},
   "outputs": [
    {
     "name": "stdout",
     "output_type": "stream",
     "text": [
      "Hello World\n",
      "20IT502\n",
      "2\n"
     ]
    }
   ],
   "source": [
    "class Student:\n",
    "    count = 0\n",
    "    def __init__(self, name, age, studentId, className):\n",
    "        self.__name = name\n",
    "        self.__age = age\n",
    "        self.__studentId = studentId\n",
    "        self.__className = className\n",
    "        Student.count += 1\n",
    "\n",
    "    @property\n",
    "    def name(self):\n",
    "        return self.__name\n",
    "        \n",
    "    @name.setter\n",
    "    def name(self, name):\n",
    "        self.__name = name\n",
    "\n",
    "    @property\n",
    "    def age(self):\n",
    "        return self.__age\n",
    "        \n",
    "    @age.setter\n",
    "    def age(self, age):\n",
    "        self.__age = age\n",
    "\n",
    "    @property\n",
    "    def studentId(self):\n",
    "        return self.__studentId\n",
    "    @studentId.setter\n",
    "    def studentId(self, studentId):\n",
    "        self.__studentId = studentId\n",
    "        \n",
    "    @property\n",
    "    def className(self):\n",
    "        return self.__className\n",
    "    @className.setter\n",
    "    def className(self, className):\n",
    "        self.__className = className\n",
    "\n",
    "    @classmethod\n",
    "    def countNo(cls):\n",
    "        return cls.count\n",
    "\n",
    "class Person(Student):\n",
    "    def __init__(self, name, age, studentId, className):\n",
    "        super().__init__(name, age, studentId, className)\n",
    "            \n",
    "    \n",
    "if __name__ == \"__main__\":\n",
    "    print(\"Hello World\")\n",
    "    person = Person(\"Uy\", 21, \"20IT502\", \"20GIT\")\n",
    "    person1 = Person(\"U12y\", 21, \"20IT502\", \"20GIT\")\n",
    "    print(person.studentId)\n",
    "    print(Student.countNo())"
   ]
  },
  {
   "cell_type": "code",
   "execution_count": null,
   "id": "2400f92f-2889-4df7-9d33-111f24509043",
   "metadata": {},
   "outputs": [],
   "source": []
  }
 ],
 "metadata": {
  "kernelspec": {
   "display_name": "Python 3 (ipykernel)",
   "language": "python",
   "name": "python3"
  },
  "language_info": {
   "codemirror_mode": {
    "name": "ipython",
    "version": 3
   },
   "file_extension": ".py",
   "mimetype": "text/x-python",
   "name": "python",
   "nbconvert_exporter": "python",
   "pygments_lexer": "ipython3",
   "version": "3.11.5"
  }
 },
 "nbformat": 4,
 "nbformat_minor": 5
}
