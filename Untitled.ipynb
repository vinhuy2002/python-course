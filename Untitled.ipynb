{
 "cells": [
  {
   "cell_type": "code",
   "execution_count": 9,
   "id": "b6fdc9b6",
   "metadata": {},
   "outputs": [
    {
     "name": "stdout",
     "output_type": "stream",
     "text": [
      "86000\n",
      "0\n",
      "23\n",
      "53\n",
      "20\n"
     ]
    }
   ],
   "source": [
    "# Nhap a (so giay) -> D: HH: MM: SS\n",
    "import math\n",
    "a = int(input())\n",
    "# 1 ngay = 86400s\n",
    "d = math.floor(a/86400)\n",
    "test = a % 86400\n",
    "hh = math.floor(test/3600)\n",
    "test = test % 3600\n",
    "mm = math.floor(test/60)\n",
    "ss = test % 60\n",
    "print(d)\n",
    "print(hh)\n",
    "print(mm)\n",
    "print(ss)"
   ]
  },
  {
   "cell_type": "code",
   "execution_count": 8,
   "id": "47f02fb6",
   "metadata": {},
   "outputs": [
    {
     "name": "stdout",
     "output_type": "stream",
     "text": [
      "0\n",
      "3\n",
      "20\n",
      "0\n"
     ]
    }
   ],
   "source": []
  },
  {
   "cell_type": "code",
   "execution_count": null,
   "id": "82182823",
   "metadata": {},
   "outputs": [],
   "source": []
  }
 ],
 "metadata": {
  "kernelspec": {
   "display_name": "Python 3 (ipykernel)",
   "language": "python",
   "name": "python3"
  },
  "language_info": {
   "codemirror_mode": {
    "name": "ipython",
    "version": 3
   },
   "file_extension": ".py",
   "mimetype": "text/x-python",
   "name": "python",
   "nbconvert_exporter": "python",
   "pygments_lexer": "ipython3",
   "version": "3.11.4"
  }
 },
 "nbformat": 4,
 "nbformat_minor": 5
}
