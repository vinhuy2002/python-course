{
 "cells": [
  {
   "cell_type": "code",
   "execution_count": null,
   "id": "7c43fa3b-fd14-4cb4-a011-73b0d6e675fa",
   "metadata": {},
   "outputs": [],
   "source": [
    "# Trần Nguyễn Vĩnh Uy - 20IT502"
   ]
  },
  {
   "cell_type": "code",
   "execution_count": 20,
   "id": "b6a28ba3-7c56-498f-9a80-8a47e91ebec4",
   "metadata": {},
   "outputs": [
    {
     "name": "stdout",
     "output_type": "stream",
     "text": [
      "Array of 5 zeros:  [0 0 0 0 0]\n",
      "Array of 10 ones:  [1 1 1 1 1 1 1 1 1 1]\n",
      "Array of 5 3.141:  [3.141 3.141 3.141 3.141 3.141]\n",
      "Array of the integers 1 to 20:  [ 1  2  3  4  5  6  7  8  9 10 11 12 13 14 15 16 17 18 19 20]\n",
      "5x5 matrix of ones: \n",
      " [[1 1 1 1 1]\n",
      " [1 1 1 1 1]\n",
      " [1 1 1 1 1]\n",
      " [1 1 1 1 1]\n",
      " [1 1 1 1 1]]\n"
     ]
    }
   ],
   "source": [
    "# 2.1\n",
    "import numpy as np\n",
    "arr1 = np.zeros(5, dtype = int)\n",
    "print(\"Array of 5 zeros: \", arr1)\n",
    "arr2 = np.ones(10, dtype = int)\n",
    "print(\"Array of 10 ones: \", arr2)\n",
    "arr3 = np.full(5, 3.141)\n",
    "print(\"Array of 5 3.141: \", arr3)\n",
    "arr4 = np.arange(1, 21, 1, dtype = int)\n",
    "print(\"Array of the integers 1 to 20: \",arr4)\n",
    "arr5 = np.ones((5,5), dtype = int)\n",
    "print(\"5x5 matrix of ones: \\n\", arr5)"
   ]
  },
  {
   "cell_type": "code",
   "execution_count": 21,
   "id": "6edb3677-29b9-4f61-8ef5-d6f504b3b44e",
   "metadata": {},
   "outputs": [
    {
     "name": "stdout",
     "output_type": "stream",
     "text": [
      "[ 1.          1.47368421  1.94736842  2.42105263  2.89473684  3.36842105\n",
      "  3.84210526  4.31578947  4.78947368  5.26315789  5.73684211  6.21052632\n",
      "  6.68421053  7.15789474  7.63157895  8.10526316  8.57894737  9.05263158\n",
      "  9.52631579 10.        ]\n"
     ]
    }
   ],
   "source": [
    "# 2.3\n",
    "arr = np.linspace(1, 10, 20)\n",
    "print(arr)"
   ]
  },
  {
   "cell_type": "code",
   "execution_count": 39,
   "id": "b81e9f1e-209d-4af1-b5fb-b0475ae36bf0",
   "metadata": {},
   "outputs": [
    {
     "name": "stdout",
     "output_type": "stream",
     "text": [
      "[[0.05828299 0.01142964 0.75121895 0.50338049 0.74136755 0.77165263]\n",
      " [0.95317643 0.6829745  0.1206192  0.99752093 0.90624954 0.82297537]\n",
      " [0.7397902  0.12309469 0.48797847 0.55886566 0.748348   0.28554272]\n",
      " [0.23430839 0.97506769 0.82179627 0.40645944 0.73073299 0.72088866]\n",
      " [0.59167957 0.20223813 0.7465735  0.16102097 0.24120121 0.05411977]\n",
      " [0.11409102 0.37546501 0.09515138 0.21772258 0.18898841 0.00193249]]\n",
      "Rows 0, 1, 2: \n",
      " [[0.05828299 0.01142964 0.75121895 0.50338049 0.74136755 0.77165263]\n",
      " [0.95317643 0.6829745  0.1206192  0.99752093 0.90624954 0.82297537]\n",
      " [0.7397902  0.12309469 0.48797847 0.55886566 0.748348   0.28554272]]\n",
      "Rows 0, 1, 5: \n",
      " [[0.05828299 0.01142964 0.75121895 0.50338049 0.74136755 0.77165263]\n",
      " [0.95317643 0.6829745  0.1206192  0.99752093 0.90624954 0.82297537]\n",
      " [0.11409102 0.37546501 0.09515138 0.21772258 0.18898841 0.00193249]]\n",
      "Columns 0, 1, 2: \n",
      " [[0.05828299 0.01142964 0.75121895]\n",
      " [0.95317643 0.6829745  0.1206192 ]\n",
      " [0.7397902  0.12309469 0.48797847]\n",
      " [0.23430839 0.97506769 0.82179627]\n",
      " [0.59167957 0.20223813 0.7465735 ]\n",
      " [0.11409102 0.37546501 0.09515138]]\n",
      "Columns 0, 1, 3: \n",
      " [[0.05828299 0.01142964 0.50338049]\n",
      " [0.95317643 0.6829745  0.99752093]\n",
      " [0.7397902  0.12309469 0.55886566]\n",
      " [0.23430839 0.97506769 0.40645944]\n",
      " [0.59167957 0.20223813 0.16102097]\n",
      " [0.11409102 0.37546501 0.21772258]]\n",
      "Columns 0, 1, 2 and Rows 2, 3: \n",
      " [[0.7397902  0.12309469 0.48797847]\n",
      " [0.23430839 0.97506769 0.82179627]]\n",
      "Odd rows and evens column: \n",
      " [[0.01142964 0.50338049 0.77165263]\n",
      " [0.12309469 0.55886566 0.28554272]\n",
      " [0.20223813 0.16102097 0.05411977]]\n"
     ]
    }
   ],
   "source": [
    "# 2.4\n",
    "arr = np.random.random(size=(6,6))\n",
    "print(arr)\n",
    "print(\"Rows 0, 1, 2: \\n\", arr[:3, :])\n",
    "print(\"Rows 0, 1, 5: \\n\", arr[[0,1,5], :])\n",
    "print(\"Columns 0, 1, 2: \\n\", arr[:, :3])\n",
    "print(\"Columns 0, 1, 3: \\n\", arr[:, [0,1,3]])\n",
    "print(\"Columns 0, 1, 2 and Rows 2, 3: \\n\", arr[2:4, :3])\n",
    "print(\"Odd rows and evens column: \\n\", arr[::2, 1::2])"
   ]
  },
  {
   "cell_type": "code",
   "execution_count": 25,
   "id": "0c8b999d-3f59-4698-9c19-934534efa25e",
   "metadata": {},
   "outputs": [
    {
     "name": "stdout",
     "output_type": "stream",
     "text": [
      "Before: \n",
      " [[0. 0. 0. 0. 0.]\n",
      " [0. 0. 0. 0. 0.]\n",
      " [0. 0. 0. 0. 0.]\n",
      " [0. 0. 0. 0. 0.]\n",
      " [0. 0. 0. 0. 0.]]\n",
      "After: \n",
      " [[0. 0. 0. 0. 0.]\n",
      " [0. 1. 1. 1. 0.]\n",
      " [0. 1. 1. 1. 0.]\n",
      " [0. 1. 1. 1. 0.]\n",
      " [0. 0. 0. 0. 0.]]\n"
     ]
    }
   ],
   "source": [
    "# 2.5\n",
    "arrOnes = np.zeros((5,5))\n",
    "print(\"Before: \\n\", arrOnes)\n",
    "arrOnes[1:-1, 1:-1] = 1\n",
    "print(\"After: \\n\", arrOnes)"
   ]
  },
  {
   "cell_type": "code",
   "execution_count": 57,
   "id": "1e4017a7-03bb-4761-93e5-93cb5cb194ed",
   "metadata": {},
   "outputs": [
    {
     "name": "stdout",
     "output_type": "stream",
     "text": [
      "[[ 1  2  3  4  5]\n",
      " [ 6  7  8  9 10]\n",
      " [11 12 13 14 15]\n",
      " [16 17 18 19 20]\n",
      " [21 22 23 24 25]]\n"
     ]
    }
   ],
   "source": [
    "# 2.6\n",
    "a = np.arange(1, 26).reshape(5, -1)\n",
    "print(a)"
   ]
  },
  {
   "cell_type": "code",
   "execution_count": 75,
   "id": "ae6dbaed-567c-467d-8bc8-7b973ac389d1",
   "metadata": {},
   "outputs": [
    {
     "data": {
      "text/plain": [
       "20"
      ]
     },
     "execution_count": 75,
     "metadata": {},
     "output_type": "execute_result"
    }
   ],
   "source": [
    "a[-2, -1]"
   ]
  },
  {
   "cell_type": "code",
   "execution_count": 60,
   "id": "4d8a5020-660d-4246-a991-c74192d823de",
   "metadata": {},
   "outputs": [
    {
     "data": {
      "text/plain": [
       "array([[ 9, 10],\n",
       "       [14, 15],\n",
       "       [19, 20],\n",
       "       [24, 25]])"
      ]
     },
     "execution_count": 60,
     "metadata": {},
     "output_type": "execute_result"
    }
   ],
   "source": [
    "a[1:, -2:]"
   ]
  },
  {
   "cell_type": "code",
   "execution_count": 61,
   "id": "53b8db91-8ca8-4c91-a905-006c4ee3e598",
   "metadata": {},
   "outputs": [
    {
     "data": {
      "text/plain": [
       "array([ 6,  7,  8,  9, 10])"
      ]
     },
     "execution_count": 61,
     "metadata": {},
     "output_type": "execute_result"
    }
   ],
   "source": [
    "a[1]"
   ]
  },
  {
   "cell_type": "code",
   "execution_count": 63,
   "id": "2241431e-0a49-429a-94e5-793a3309e32c",
   "metadata": {},
   "outputs": [
    {
     "data": {
      "text/plain": [
       "array([[11, 12, 13, 14, 15],\n",
       "       [16, 17, 18, 19, 20]])"
      ]
     },
     "execution_count": 63,
     "metadata": {},
     "output_type": "execute_result"
    }
   ],
   "source": [
    "a[2:4]"
   ]
  },
  {
   "cell_type": "code",
   "execution_count": 64,
   "id": "2607e564-5e18-44c4-a91b-b39cb4ec8f83",
   "metadata": {},
   "outputs": [
    {
     "data": {
      "text/plain": [
       "array([[ 8,  9],\n",
       "       [13, 14]])"
      ]
     },
     "execution_count": 64,
     "metadata": {},
     "output_type": "execute_result"
    }
   ],
   "source": [
    "a[1:3, 2:4]"
   ]
  },
  {
   "cell_type": "code",
   "execution_count": 65,
   "id": "5d8185a5-52ae-4c28-b923-5637ff9901b1",
   "metadata": {},
   "outputs": [
    {
     "data": {
      "text/plain": [
       "325"
      ]
     },
     "execution_count": 65,
     "metadata": {},
     "output_type": "execute_result"
    }
   ],
   "source": [
    "np.sum(a)"
   ]
  },
  {
   "cell_type": "code",
   "execution_count": 74,
   "id": "b0f46d62-bbab-494a-bc34-437fc0409adf",
   "metadata": {},
   "outputs": [
    {
     "name": "stdout",
     "output_type": "stream",
     "text": [
      "15\n",
      "40\n",
      "65\n",
      "90\n",
      "115\n"
     ]
    }
   ],
   "source": [
    "for i in a:\n",
    "    print(np.sum(i))"
   ]
  },
  {
   "cell_type": "code",
   "execution_count": 77,
   "id": "155aea28-1aec-4097-a2f2-f23195f30520",
   "metadata": {},
   "outputs": [
    {
     "data": {
      "text/plain": [
       "array([14, 15, 16, 17, 18, 19, 20, 21, 22, 23, 24, 25])"
      ]
     },
     "execution_count": 77,
     "metadata": {},
     "output_type": "execute_result"
    }
   ],
   "source": [
    "a[a > np.mean(a)]"
   ]
  },
  {
   "cell_type": "code",
   "execution_count": 89,
   "id": "e49f84a9-7ec7-4fb1-b966-4e2a500562d0",
   "metadata": {},
   "outputs": [
    {
     "name": "stdout",
     "output_type": "stream",
     "text": [
      "[[ 1 -5  6 -1  0]\n",
      " [ 5  2  0  4 -2]\n",
      " [-7 -7  1 -8  4]\n",
      " [-5  7  2 -9  5]\n",
      " [ 5  3  0  2  1]\n",
      " [ 0  6  4  0  2]]\n",
      "(6, 5)\n",
      "5\n",
      "0\n",
      "4\n"
     ]
    }
   ],
   "source": [
    "# 2.7\n",
    "arr1 = np.array([[1, -5, 6, -1, 0],[5, 2, 0, 4, -2],[-7, -7, 1, -8, 4],[-5, 7, 2, -9, 5], [5, 3, 0, 2, 1],\n",
    "                [0,6,4,0,2]])\n",
    "print(arr1)\n",
    "print(arr1.shape)\n",
    "print(arr1[3, 4])\n",
    "print(arr1[5, 0])\n",
    "print(arr1[5, 2])"
   ]
  },
  {
   "cell_type": "code",
   "execution_count": 7,
   "id": "8aed9b4b-4974-4191-98ec-a4711c00b9ee",
   "metadata": {},
   "outputs": [
    {
     "name": "stdout",
     "output_type": "stream",
     "text": [
      "6\n"
     ]
    }
   ],
   "source": [
    "# 2.8\n",
    "import numpy as np\n",
    "np.random.seed(123)\n",
    "b = np.random.randn(10)\n",
    "print(np.argmin(b))"
   ]
  },
  {
   "cell_type": "code",
   "execution_count": 7,
   "id": "42b8a0c4-1bf4-408e-be8a-c9ea1fe9f736",
   "metadata": {},
   "outputs": [
    {
     "name": "stdout",
     "output_type": "stream",
     "text": [
      "[0.48613811 0.44173501 0.43282142 0.39867884 0.29046955 0.40902374\n",
      " 0.50073691 0.8352787  0.34455743 0.5797171 ]\n"
     ]
    }
   ],
   "source": [
    "# 2.9\n",
    "import numpy as np\n",
    "n = np.random.rand(10,3)\n",
    "b = np.abs(n-0.5)\n",
    "ind = np.argsort(b)\n",
    "ind2 = ind[:,0]\n",
    "b2 = n[np.arange(n.shape[0]),ind2]\n",
    "print(b2)"
   ]
  },
  {
   "cell_type": "code",
   "execution_count": 8,
   "id": "2ad79cc0-9bac-4aac-acbd-4e88b4d8fe60",
   "metadata": {},
   "outputs": [
    {
     "name": "stdout",
     "output_type": "stream",
     "text": [
      "[[1.43863548 1.53719013 1.07035605]\n",
      " [0.86431698 1.00224532 0.80926504]\n",
      " [1.19122247 1.35151277 0.80379977]]\n"
     ]
    }
   ],
   "source": [
    "# 2.10\n",
    "a1 = np.random.rand(3,3)\n",
    "a2 = np.random.rand(3)\n",
    "a3 = a1 + a2\n",
    "print(a3)"
   ]
  },
  {
   "cell_type": "code",
   "execution_count": 13,
   "id": "d54feb9b-b4a8-4127-ba80-9b10cf68495b",
   "metadata": {},
   "outputs": [
    {
     "data": {
      "text/plain": [
       "array([1.46778745, 4.59570452, 4.9279306 , 4.61087844, 2.41051862,\n",
       "       0.14142136])"
      ]
     },
     "execution_count": 13,
     "metadata": {},
     "output_type": "execute_result"
    }
   ],
   "source": [
    "# 2.11\n",
    "pos = np.array([[1.72, 2.56],\n",
    "               [0.24, 5.67],\n",
    "               [-1.24, 5.45],\n",
    "               [-3.17, -0.23],\n",
    "               [1.17, -1.23],\n",
    "               [1.12, 1.08]])\n",
    "ref = np.array([1.22, 1.18])\n",
    "newArr = pos-ref\n",
    "np.sqrt(newArr[::1, 0]**2 + newArr[::1, 1]**2)"
   ]
  },
  {
   "cell_type": "code",
   "execution_count": 27,
   "id": "fb5421a7-5e6e-4327-8c6f-9ba66ea7e5b9",
   "metadata": {},
   "outputs": [
    {
     "name": "stdout",
     "output_type": "stream",
     "text": [
      "[ True False  True]\n"
     ]
    }
   ],
   "source": [
    "# 2.12\n",
    "arr1 = np.array([10,20,30])\n",
    "arr2 = np.array([10,30,30])\n",
    "a1 = np.where(arr1 == arr2, True, False)\n",
    "print(a1)"
   ]
  },
  {
   "cell_type": "code",
   "execution_count": 26,
   "id": "b09766b9-ae6e-4c3a-a225-f598a03d3e53",
   "metadata": {},
   "outputs": [
    {
     "name": "stdout",
     "output_type": "stream",
     "text": [
      "[0 2]\n"
     ]
    }
   ],
   "source": [
    "# 2.13\n",
    "arr1 = np.array([10,20,30])\n",
    "arr2 = np.array([10,30,30])\n",
    "a1 = np.where(arr1 == arr2)[0]\n",
    "print(a1)"
   ]
  },
  {
   "cell_type": "code",
   "execution_count": 33,
   "id": "c4cac6cf-59fa-4cbb-b157-fa4babbbe497",
   "metadata": {},
   "outputs": [
    {
     "name": "stdout",
     "output_type": "stream",
     "text": [
      "Default Array:\n",
      "[1 2 3]\n",
      "Clipped Array:\n",
      "[2 2 2]\n"
     ]
    }
   ],
   "source": [
    "# 2.14\n",
    "def clip_values(arr, min_val, max_val):\n",
    "    newArr = np.clip(arr, min_val, max_val)\n",
    "    return newArr\n",
    "\n",
    "arr = np.array([1, 2, 3])\n",
    "min_val = 2\n",
    "max_val = 2\n",
    "\n",
    "newArr = clip_values(input_array, min_val, max_val)\n",
    "print(\"Default Array:\")\n",
    "print(arr)\n",
    "print(\"Clipped Array:\")\n",
    "print(newArr)"
   ]
  },
  {
   "cell_type": "code",
   "execution_count": 34,
   "id": "377a190a-9ae0-4664-a273-0e886a2b4315",
   "metadata": {},
   "outputs": [
    {
     "name": "stdout",
     "output_type": "stream",
     "text": [
      "[ 2.  1. -1.]\n"
     ]
    }
   ],
   "source": [
    "# 2.15\n",
    "varArr = np.array([\n",
    "    [2,-2,3],\n",
    "    [3,3,9],\n",
    "    [3,3,5]\n",
    "])\n",
    "resArr = np.array([-1,0,4])\n",
    "x = np.linalg.solve(varArr, resArr)\n",
    "print(x)"
   ]
  },
  {
   "cell_type": "code",
   "execution_count": 37,
   "id": "d03438c7-8cea-4120-8544-c080c1294c2a",
   "metadata": {},
   "outputs": [
    {
     "data": {
      "text/plain": [
       "array([0., 0., 0.])"
      ]
     },
     "execution_count": 37,
     "metadata": {},
     "output_type": "execute_result"
    }
   ],
   "source": [
    "# 2.16\n",
    "newArr = np.dot(varArr, x) - resArr\n",
    "newArr"
   ]
  },
  {
   "cell_type": "code",
   "execution_count": null,
   "id": "bc485852-5290-491e-9372-4dacfc6c447b",
   "metadata": {},
   "outputs": [],
   "source": []
  }
 ],
 "metadata": {
  "kernelspec": {
   "display_name": "Python 3 (ipykernel)",
   "language": "python",
   "name": "python3"
  },
  "language_info": {
   "codemirror_mode": {
    "name": "ipython",
    "version": 3
   },
   "file_extension": ".py",
   "mimetype": "text/x-python",
   "name": "python",
   "nbconvert_exporter": "python",
   "pygments_lexer": "ipython3",
   "version": "3.11.5"
  }
 },
 "nbformat": 4,
 "nbformat_minor": 5
}
