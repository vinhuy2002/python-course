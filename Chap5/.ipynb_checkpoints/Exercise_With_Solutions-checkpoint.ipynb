{
 "cells": [
  {
   "cell_type": "code",
   "execution_count": null,
   "id": "270f6bfd-7a1c-47d3-8f21-b0e2958ad522",
   "metadata": {},
   "outputs": [],
   "source": [
    "# Trần Nguyễn Vĩnh Uy - 20IT502"
   ]
  },
  {
   "cell_type": "code",
   "execution_count": 1,
   "id": "75c98494-9415-4723-ba1f-887a763b4b5f",
   "metadata": {},
   "outputs": [],
   "source": [
    "import numpy as np"
   ]
  },
  {
   "cell_type": "code",
   "execution_count": 2,
   "id": "6ff571e8-60ad-4e8d-be91-ee23f2fcf7e3",
   "metadata": {},
   "outputs": [
    {
     "name": "stdout",
     "output_type": "stream",
     "text": [
      "1.26.1\n",
      "Build Dependencies:\n",
      "  blas:\n",
      "    detection method: pkgconfig\n",
      "    found: true\n",
      "    include directory: /c/opt/64/include\n",
      "    lib directory: /c/opt/64/lib\n",
      "    name: openblas64\n",
      "    openblas configuration: USE_64BITINT=1 DYNAMIC_ARCH=1 DYNAMIC_OLDER= NO_CBLAS=\n",
      "      NO_LAPACK= NO_LAPACKE= NO_AFFINITY=1 USE_OPENMP= SKYLAKEX MAX_THREADS=2\n",
      "    pc file directory: C:/opt/64/lib/pkgconfig\n",
      "    version: 0.3.23.dev\n",
      "  lapack:\n",
      "    detection method: internal\n",
      "    found: true\n",
      "    include directory: unknown\n",
      "    lib directory: unknown\n",
      "    name: dep2300277146320\n",
      "    openblas configuration: unknown\n",
      "    pc file directory: unknown\n",
      "    version: 1.26.1\n",
      "Compilers:\n",
      "  c:\n",
      "    commands: cl\n",
      "    linker: link\n",
      "    name: msvc\n",
      "    version: 19.29.30152\n",
      "  c++:\n",
      "    commands: cl\n",
      "    linker: link\n",
      "    name: msvc\n",
      "    version: 19.29.30152\n",
      "  cython:\n",
      "    commands: cython\n",
      "    linker: cython\n",
      "    name: cython\n",
      "    version: 3.0.3\n",
      "Machine Information:\n",
      "  build:\n",
      "    cpu: x86_64\n",
      "    endian: little\n",
      "    family: x86_64\n",
      "    system: windows\n",
      "  host:\n",
      "    cpu: x86_64\n",
      "    endian: little\n",
      "    family: x86_64\n",
      "    system: windows\n",
      "Python Information:\n",
      "  path: C:\\Users\\runneradmin\\AppData\\Local\\Temp\\cibw-run-yh7ulkgn\\cp311-win_amd64\\build\\venv\\Scripts\\python.exe\n",
      "  version: '3.11'\n",
      "SIMD Extensions:\n",
      "  baseline:\n",
      "  - SSE\n",
      "  - SSE2\n",
      "  - SSE3\n",
      "  found:\n",
      "  - SSSE3\n",
      "  - SSE41\n",
      "  - POPCNT\n",
      "  - SSE42\n",
      "  - AVX\n",
      "  - F16C\n",
      "  - FMA3\n",
      "  - AVX2\n",
      "  - AVX512F\n",
      "  - AVX512CD\n",
      "  - AVX512_SKX\n",
      "  - AVX512_CLX\n",
      "  - AVX512_CNL\n",
      "  - AVX512_ICL\n",
      "\n",
      "None\n"
     ]
    }
   ],
   "source": [
    "print(np.__version__)\n",
    "print(np.show_config())"
   ]
  },
  {
   "cell_type": "code",
   "execution_count": 8,
   "id": "1fbc02df-9537-4bce-ab20-edb70b03daac",
   "metadata": {},
   "outputs": [
    {
     "name": "stdout",
     "output_type": "stream",
     "text": [
      "One-dimesional Numpy array:  [1 2 3 4 5]\n",
      "Original List:  [1, 2, 3, 4]\n",
      "One-dimensional NumPy array:  [1 2 3 4]\n",
      "Original list of lists:  [[1, 2, 3], [4, 5, 6], [7, 8, 9]]\n",
      "Two diemnsional:  [[1 2 3]\n",
      " [4 5 6]\n",
      " [7 8 9]]\n"
     ]
    }
   ],
   "source": [
    "arr = np.array([1,2,3,4,5])\n",
    "print(\"One-dimesional Numpy array: \", arr)\n",
    "l = [1,2,3,4]\n",
    "print(\"Original List: \", l)\n",
    "list_arr = np.array(l)\n",
    "print(\"One-dimensional NumPy array: \", list_arr)\n",
    "two_arr = arr = np.array([[1,2,3], [4,5,6]])\n",
    "listOfLists = [[1,2,3],[4,5,6],[7,8,9]]\n",
    "print(\"Original list of lists: \", listOfLists)\n",
    "list2_arr = np.array(listOfLists)\n",
    "print(\"Two diemnsional: \",list2_arr)"
   ]
  },
  {
   "cell_type": "code",
   "execution_count": 10,
   "id": "d05bd7a1-4a1d-43a7-b2a9-e33f34fd248d",
   "metadata": {},
   "outputs": [
    {
     "name": "stdout",
     "output_type": "stream",
     "text": [
      "[1 2 3 4 5 6 7 8]\n",
      "[[8 4 6]\n",
      " [1 2 3]]\n"
     ]
    }
   ],
   "source": [
    "#1.2.2\n",
    "my_list = [1,2,3,4,5,6,7,8]\n",
    "print(np.asarray(my_list))\n",
    "my_tuple = ([8,4,6], [1,2,3])\n",
    "print(np.asarray(my_tuple))"
   ]
  },
  {
   "cell_type": "code",
   "execution_count": 12,
   "id": "ac25acae-f74a-44f2-9667-ecdbd90008ba",
   "metadata": {},
   "outputs": [
    {
     "name": "stdout",
     "output_type": "stream",
     "text": [
      "[[1. 1. 1. 1. 1.]\n",
      " [1. 1. 1. 1. 1.]\n",
      " [1. 1. 1. 1. 1.]\n",
      " [1. 1. 1. 1. 1.]\n",
      " [1. 1. 1. 1. 1.]]\n",
      "[[1. 1. 1. 1. 1.]\n",
      " [1. 0. 0. 0. 1.]\n",
      " [1. 0. 0. 0. 1.]\n",
      " [1. 0. 0. 0. 1.]\n",
      " [1. 1. 1. 1. 1.]]\n"
     ]
    }
   ],
   "source": [
    "#1.2.3\n",
    "x = np.ones((5,5))\n",
    "print(x)\n",
    "x[1:-1, 1:-1] = 0\n",
    "print(x)"
   ]
  },
  {
   "cell_type": "code",
   "execution_count": 13,
   "id": "4ff77d67-ed2a-4065-860d-f127a39ca9f0",
   "metadata": {},
   "outputs": [
    {
     "name": "stdout",
     "output_type": "stream",
     "text": [
      "[[1 2 3]\n",
      " [4 5 6]\n",
      " [7 8 9]]\n"
     ]
    }
   ],
   "source": [
    "x = np.arange(1,10).reshape(3,3)\n",
    "print(x)"
   ]
  },
  {
   "cell_type": "code",
   "execution_count": 14,
   "id": "4de142c9-6a0e-4a8d-ac7d-813cb9e7755f",
   "metadata": {},
   "outputs": [
    {
     "name": "stdout",
     "output_type": "stream",
     "text": [
      "[[0 1 0 1 0 1 0 1]\n",
      " [1 0 1 0 1 0 1 0]\n",
      " [0 1 0 1 0 1 0 1]\n",
      " [1 0 1 0 1 0 1 0]\n",
      " [0 1 0 1 0 1 0 1]\n",
      " [1 0 1 0 1 0 1 0]\n",
      " [0 1 0 1 0 1 0 1]\n",
      " [1 0 1 0 1 0 1 0]]\n"
     ]
    }
   ],
   "source": [
    "x = np.zeros((8,8), dtype= int)\n",
    "x[1::2, ::2] = 1\n",
    "x[::2, 1::2] = 1\n",
    "print(x)"
   ]
  },
  {
   "cell_type": "code",
   "execution_count": 16,
   "id": "3e94b99b-0837-498c-b104-4f7f33d12919",
   "metadata": {},
   "outputs": [
    {
     "name": "stdout",
     "output_type": "stream",
     "text": [
      "[0 0 0 0 0 0 0 0 0 0]\n",
      "Update sixth value to 11\n",
      "[ 0  0  0  0  0  0 11  0  0  0]\n"
     ]
    }
   ],
   "source": [
    "#1.2.7\n",
    "x = np.zeros(10, dtype = int)\n",
    "print(x)\n",
    "print(\"Update sixth value to 11\")\n",
    "x[6] = 11\n",
    "print(x)"
   ]
  },
  {
   "cell_type": "code",
   "execution_count": 17,
   "id": "b8debcfb-8d2f-4ad7-b074-5eadb9189757",
   "metadata": {},
   "outputs": [
    {
     "name": "stdout",
     "output_type": "stream",
     "text": [
      "[[1.28747008e-311 1.28750988e-311 1.69121096e-306 6.23061763e-307\n",
      "  2.22526399e-307 6.23053614e-307 7.56592338e-307]\n",
      " [1.60216183e-306 7.56602523e-307 3.56043054e-307 1.37961641e-306\n",
      "  2.22518251e-306 1.33511969e-306 6.23037317e-307]\n",
      " [6.23053954e-307 9.34609790e-307 8.45593934e-307 9.34600963e-307\n",
      "  9.34598925e-307 1.42418715e-306 1.95819401e-306]\n",
      " [1.37961370e-306 6.23054633e-307 9.34598926e-307 6.89804132e-307\n",
      "  9.34598926e-307 8.01091099e-307 1.24610927e-306]\n",
      " [2.22522597e-306 8.90109671e-307 1.86920872e-306 6.89810244e-307\n",
      "  1.24611266e-306 2.22522596e-306 2.56765117e-312]]\n",
      "[[9 9 9]\n",
      " [9 9 9]\n",
      " [9 9 9]\n",
      " [9 9 9]]\n"
     ]
    }
   ],
   "source": [
    "#1.2.8\n",
    "x = np.empty((5,7))\n",
    "print(x)\n",
    "y = np.full((4,3), 9)\n",
    "print(y)"
   ]
  },
  {
   "cell_type": "code",
   "execution_count": 18,
   "id": "489d6b9b-ec86-4a98-89e3-d1bd6c4d80ac",
   "metadata": {},
   "outputs": [
    {
     "name": "stdout",
     "output_type": "stream",
     "text": [
      "[[1. 0. 0.]\n",
      " [0. 1. 0.]\n",
      " [0. 0. 1.]]\n"
     ]
    }
   ],
   "source": [
    "#1.2.9\n",
    "x = np.eye(3)\n",
    "print(x)"
   ]
  },
  {
   "cell_type": "code",
   "execution_count": 19,
   "id": "10a8b305-1ed4-46e2-9c7a-047e5bc03bc5",
   "metadata": {},
   "outputs": [
    {
     "data": {
      "text/plain": [
       "array([[ 6, 12],\n",
       "       [30, 36],\n",
       "       [54, 60]])"
      ]
     },
     "execution_count": 19,
     "metadata": {},
     "output_type": "execute_result"
    }
   ],
   "source": [
    "#1.3.1\n",
    "y = np.array([\n",
    "    [3,6,9,12],\n",
    "    [15,18,21,24],\n",
    "    [27,30,33,36],\n",
    "    [39,42,45,48],\n",
    "    [51,54,57,60]\n",
    "])\n",
    "y[::2, 1::2]"
   ]
  },
  {
   "cell_type": "code",
   "execution_count": 20,
   "id": "58e60d30-268f-4cf3-8e1c-df19dd7cee0d",
   "metadata": {},
   "outputs": [
    {
     "name": "stdout",
     "output_type": "stream",
     "text": [
      "[  4  10  89  43  46 100]\n",
      "[ 10  45 100]\n",
      "[45]\n",
      "[ 42   4  42  10  42  89  42  43  46  42 100]\n"
     ]
    }
   ],
   "source": [
    "a = np.array([3,4,6,10,24,89,45,43,46,99,100])\n",
    "div3 = a[a%3!=0]\n",
    "print(div3)\n",
    "div5 = a[a%5==0]\n",
    "print(div5)\n",
    "print(a[(a%3==0) & (a%5==0)])\n",
    "a[a%3==0] = 42\n",
    "print(a)"
   ]
  },
  {
   "cell_type": "code",
   "execution_count": 21,
   "id": "f677a39a-06de-4416-8e72-245c172e4758",
   "metadata": {},
   "outputs": [
    {
     "name": "stdout",
     "output_type": "stream",
     "text": [
      "[[0 0 0]\n",
      " [1 2 3]\n",
      " [4 5 6]]\n",
      "[10 11 12]\n",
      "[[10 11 12]\n",
      " [11 13 15]\n",
      " [14 16 18]]\n"
     ]
    }
   ],
   "source": [
    "#1.4.1\n",
    "p = np.array([[0,0,0],[1,2,3],[4,5,6]])\n",
    "q = np.array([10,11,12])\n",
    "print(p)\n",
    "print(q)\n",
    "print(p+q)"
   ]
  },
  {
   "cell_type": "code",
   "execution_count": 31,
   "id": "a2ae8752-1797-40b3-a3da-2811596470f0",
   "metadata": {},
   "outputs": [
    {
     "name": "stdout",
     "output_type": "stream",
     "text": [
      "Pie cost:  [20 15 25]\n",
      "Pie sales:\n",
      " [[2 3 1]\n",
      " [6 3 3]\n",
      " [5 3 5]]\n",
      "[[ 40  60  20]\n",
      " [ 90  45  45]\n",
      " [125  75 125]]\n"
     ]
    }
   ],
   "source": [
    "#1.4.2\n",
    "cost = np.array([20,15,25])\n",
    "print(\"Pie cost: \", cost)\n",
    "sales = np.array([[2,3,1], [6,3,3], [5,3,5]])\n",
    "print(\"Pie sales:\\n\", sales)\n",
    "cost1 = np.repeat(cost, 3).reshape((3,3))\n",
    "cost1\n",
    "print(cost1*sales)"
   ]
  },
  {
   "cell_type": "code",
   "execution_count": 32,
   "id": "97b80045-7c26-4c6f-a747-a6c90e4df577",
   "metadata": {},
   "outputs": [
    {
     "data": {
      "text/plain": [
       "array([[ 1,  2,  3,  4],\n",
       "       [ 5,  6,  7,  8],\n",
       "       [ 9, 10, 11, 12]])"
      ]
     },
     "execution_count": 32,
     "metadata": {},
     "output_type": "execute_result"
    }
   ],
   "source": [
    "#1.5.1\n",
    "arrayA = np.array([[1,2,3,4],[5,6,7,8], [9,10,11,12]])\n",
    "arrayA"
   ]
  },
  {
   "cell_type": "code",
   "execution_count": 39,
   "id": "4fb0e51e-ca7c-472f-9c2a-9715cfd7d4da",
   "metadata": {},
   "outputs": [
    {
     "name": "stdout",
     "output_type": "stream",
     "text": [
      "2\n",
      "(3, 4)\n",
      "12\n",
      "4\n"
     ]
    }
   ],
   "source": [
    "print(np.ndim(arrayA))\n",
    "print(np.shape(arrayA))\n",
    "print(np.size(arrayA))\n",
    "print(arrayA.itemsize)"
   ]
  },
  {
   "cell_type": "code",
   "execution_count": 40,
   "id": "2db21ff4-7366-4512-97e6-004f9bccae6d",
   "metadata": {},
   "outputs": [
    {
     "name": "stdout",
     "output_type": "stream",
     "text": [
      "[1 2 3 4 5 6 7 8 9]\n",
      "[9 8 7 6 5 4 3 2 1]\n"
     ]
    }
   ],
   "source": [
    "#1.6.1\n",
    "x = np.arange(1,10)\n",
    "print(x)\n",
    "print(x[::-1])"
   ]
  },
  {
   "cell_type": "code",
   "execution_count": 41,
   "id": "5029a830-a02a-43e4-9f03-04f9e150b455",
   "metadata": {},
   "outputs": [
    {
     "name": "stdout",
     "output_type": "stream",
     "text": [
      "[1 2 3 4 5 6 7 8 9]\n",
      "[1. 2. 3. 4. 5. 6. 7. 8. 9.]\n"
     ]
    }
   ],
   "source": [
    "#1.6.2\n",
    "x = np.arange(1,10)\n",
    "print(x)\n",
    "x = np.asfarray(x)\n",
    "print(x)"
   ]
  },
  {
   "cell_type": "code",
   "execution_count": 44,
   "id": "0d23caea-92d1-4660-955b-618123278f7f",
   "metadata": {},
   "outputs": [
    {
     "name": "stdout",
     "output_type": "stream",
     "text": [
      "Array1:  [0 1 2 3 5]\n",
      "Array2:  [0, 2, 4]\n",
      "[ True False  True False False]\n"
     ]
    }
   ],
   "source": [
    "#1.6.3\n",
    "array1 = np.array([0,1,2,3,5])\n",
    "print(\"Array1: \", array1)\n",
    "array2 = [0,2,4]\n",
    "print(\"Array2: \", array2)\n",
    "print(np.in1d(array1, array2))"
   ]
  },
  {
   "cell_type": "code",
   "execution_count": 46,
   "id": "38f361b1-70dd-49e6-86ce-71498f919e09",
   "metadata": {},
   "outputs": [
    {
     "name": "stdout",
     "output_type": "stream",
     "text": [
      "Array1:  [ 0 10 20 40 60]\n",
      "Array2:  [10, 30, 40]\n",
      "[10 40]\n"
     ]
    }
   ],
   "source": [
    "#1.6.4\n",
    "array1= np.array([0,10,20,40,60])\n",
    "print(\"Array1: \", array1)\n",
    "array2 = [10,30,40]\n",
    "print(\"Array2: \", array2)\n",
    "print(np.intersect1d(array1, array2))"
   ]
  },
  {
   "cell_type": "code",
   "execution_count": null,
   "id": "2b667ee4-43c8-46a8-a15d-a6efbcd7e9ae",
   "metadata": {},
   "outputs": [],
   "source": []
  }
 ],
 "metadata": {
  "kernelspec": {
   "display_name": "Python 3 (ipykernel)",
   "language": "python",
   "name": "python3"
  },
  "language_info": {
   "codemirror_mode": {
    "name": "ipython",
    "version": 3
   },
   "file_extension": ".py",
   "mimetype": "text/x-python",
   "name": "python",
   "nbconvert_exporter": "python",
   "pygments_lexer": "ipython3",
   "version": "3.11.5"
  }
 },
 "nbformat": 4,
 "nbformat_minor": 5
}
