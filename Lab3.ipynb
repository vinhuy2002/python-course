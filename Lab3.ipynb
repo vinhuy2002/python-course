{
 "cells": [
  {
   "cell_type": "code",
   "execution_count": 52,
   "id": "437d4b44-6839-426c-9c56-2870ef9bb9a3",
   "metadata": {},
   "outputs": [],
   "source": [
    "# 2.1\n",
    "class BankAccount:\n",
    "    id = 0\n",
    "    def __init__(self, name, balance):\n",
    "        self.__name = name\n",
    "        self.__balance = balance\n",
    "        BankAccount.increaseID()\n",
    "        \n",
    "    @classmethod\n",
    "    def increaseID(cls):\n",
    "        cls.id += 1\n",
    "\n",
    "    def getBalance(self):\n",
    "        return self.__balance\n",
    "\n",
    "    def setBalance(self, balance):\n",
    "        self.__balance = balance\n",
    "\n",
    "    def getName(self):\n",
    "        return self.__name\n",
    "\n",
    "    def setName(self, name):\n",
    "        self.__name = name\n",
    "    \n",
    "    def Deposit(self):\n",
    "        dep = int(input(\"Deposit amount of money: \"))\n",
    "        self.__balance += dep\n",
    "\n",
    "    def Withdraw(self):\n",
    "        withdraw = int(input(\"Withdraw amount of money: \"))\n",
    "        if (withdraw > self.__balance):\n",
    "            return \"Can't withdraw\"\n",
    "        self.__balance -= withdraw\n",
    "    \n",
    "    def __str__(self):\n",
    "        return \"ID: \"+ str(BankAccount.id) +\", name: \" + self.__name + \", balance: \" + str(self.__balance)\n",
    "    "
   ]
  },
  {
   "cell_type": "code",
   "execution_count": 54,
   "id": "16442678-f08f-48bb-be88-1bbea3086f5b",
   "metadata": {},
   "outputs": [
    {
     "name": "stdout",
     "output_type": "stream",
     "text": [
      "ID: 2, name: a, balance: 12\n"
     ]
    },
    {
     "name": "stdin",
     "output_type": "stream",
     "text": [
      "Deposit amount of money:  1\n"
     ]
    },
    {
     "name": "stdout",
     "output_type": "stream",
     "text": [
      "13\n"
     ]
    },
    {
     "name": "stdin",
     "output_type": "stream",
     "text": [
      "Withdraw amount of money:  2\n"
     ]
    },
    {
     "name": "stdout",
     "output_type": "stream",
     "text": [
      "11\n"
     ]
    }
   ],
   "source": [
    "b = BankAccount(\"a\" , 12)\n",
    "print(b)\n",
    "b.Deposit()\n",
    "print(b.getBalance())\n",
    "b.Withdraw()\n",
    "print(b.getBalance())"
   ]
  },
  {
   "cell_type": "code",
   "execution_count": 1,
   "id": "7f8011a6-b298-460d-ba76-e491cd3de121",
   "metadata": {},
   "outputs": [],
   "source": [
    "#2.2 \n",
    "from abc import ABC, abstractmethod\n",
    "class Shape(ABC):\n",
    "    @abstractmethod\n",
    "    def square(self):\n",
    "        pass\n",
    "\n",
    "    @abstractmethod\n",
    "    def perimeter(self):\n",
    "        pass\n",
    "\n",
    "class Rectangle(Shape):\n",
    "    def __init__(self, length, width):\n",
    "        self.length = length\n",
    "        self.width = width"
   ]
  },
  {
   "cell_type": "code",
   "execution_count": 2,
   "id": "b9491007-917a-454e-8773-e6f221df01fb",
   "metadata": {},
   "outputs": [
    {
     "name": "stdin",
     "output_type": "stream",
     "text": [
      "Number of elements:  6\n",
      "Enter the minimum value for random integers:  1\n",
      "Enter the maximum value for random integers:  10\n"
     ]
    },
    {
     "name": "stdout",
     "output_type": "stream",
     "text": [
      "\n",
      "=== Bubble Sort Algorithm ===\n",
      "Unsorted Array: [7, 6, 10, 2, 7, 3]\n",
      "Sorted Array: [2, 3, 6, 7, 7, 10]\n"
     ]
    }
   ],
   "source": [
    "#2.3\n",
    "import random\n",
    "\n",
    "class BubbleSort:\n",
    "    def __init__(self, arrayList):\n",
    "        self.arrayList = arrayList\n",
    "\n",
    "    def bubble_sort(self):\n",
    "        n = len(self.arrayList)\n",
    "        for i in range(n):\n",
    "            checked = False\n",
    "            for j in range(0, n-i-1):\n",
    "                if self.arrayList[j] > self.arrayList[j+1]:\n",
    "                    self.arrayList[j], self.arrayList[j+1] = self.arrayList[j+1], self.arrayList[j]\n",
    "                    checked = True\n",
    "            if not checked:\n",
    "                break\n",
    "\n",
    "    def display_unsorted(self):\n",
    "        print(\"Unsorted Array:\", self.arrayList)\n",
    "\n",
    "    def display_sorted(self):\n",
    "        print(\"Sorted Array:\", self.arrayList)\n",
    "\n",
    "def main():\n",
    "    try:\n",
    "        num_elements = int(input(\"Number of elements: \"))\n",
    "        min_value = int(input(\"Enter the minimum value for random integers: \"))\n",
    "        max_value = int(input(\"Enter the maximum value for random integers: \"))\n",
    "\n",
    "        if num_elements <= 0:\n",
    "            print(\"Please enter a valid number of elements.\")\n",
    "            return\n",
    "\n",
    "        arr = [random.randint(min_value, max_value) for _ in range(num_elements)]\n",
    "\n",
    "        sorter = BubbleSort(arr)\n",
    "\n",
    "        print(\"\\n=== Bubble Sort Algorithm ===\")\n",
    "        sorter.display_unsorted()\n",
    "        sorter.bubble_sort()\n",
    "        sorter.display_sorted()\n",
    "\n",
    "    except ValueError:\n",
    "        print(\"Invalid input. Please enter valid integers for the number of elements and range.\")\n",
    "\n",
    "if __name__ == \"__main__\":\n",
    "    main()\n"
   ]
  },
  {
   "cell_type": "code",
   "execution_count": 1,
   "id": "04aa6b51-5d7b-4db5-bacb-495c691ea470",
   "metadata": {},
   "outputs": [
    {
     "name": "stdout",
     "output_type": "stream",
     "text": [
      "\n",
      "WELCOME TO STUDENT MANAGEMENT\n",
      "1. Create\n",
      "2. Find and Sort\n",
      "3. Update/Delete\n",
      "4. Report\n",
      "5. Exit\n"
     ]
    },
    {
     "name": "stdin",
     "output_type": "stream",
     "text": [
      "Enter your choice:  1\n",
      "Enter Student ID:  1\n",
      "Enter Student Name:  Uy\n",
      "Enter Semester:  2\n",
      "Enter Course Name:  Python\n"
     ]
    },
    {
     "name": "stdout",
     "output_type": "stream",
     "text": [
      "Student added successfully!\n",
      "\n",
      "WELCOME TO STUDENT MANAGEMENT\n",
      "1. Create\n",
      "2. Find and Sort\n",
      "3. Update/Delete\n",
      "4. Report\n",
      "5. Exit\n"
     ]
    },
    {
     "name": "stdin",
     "output_type": "stream",
     "text": [
      "Enter your choice:  5\n"
     ]
    },
    {
     "name": "stdout",
     "output_type": "stream",
     "text": [
      "Exiting Student Management System. Goodbye!\n"
     ]
    }
   ],
   "source": [
    "class Student:\n",
    "    def __init__(self, student_id, student_name, semester, course_name):\n",
    "        self.student_id = student_id\n",
    "        self.student_name = student_name\n",
    "        self.semester = semester\n",
    "        self.course_name = course_name\n",
    "\n",
    "class StudentManagementSystem:\n",
    "    def __init__(self):\n",
    "        self.students = []\n",
    "\n",
    "    def create_student(self):\n",
    "        student_id = input(\"Enter Student ID: \")\n",
    "        student_name = input(\"Enter Student Name: \")\n",
    "        semester = input(\"Enter Semester: \")\n",
    "        course_name = input(\"Enter Course Name: \")\n",
    "        student = Student(student_id, student_name, semester, course_name)\n",
    "        self.students.append(student)\n",
    "        print(\"Student added successfully!\")\n",
    "\n",
    "    def find_and_sort_students(self):\n",
    "        search_name = input(\"Enter Student Name to search: \")\n",
    "        results = [student for student in self.students if search_name.lower() in student.student_name.lower()]\n",
    "        sorted_results = sorted(results, key=lambda x: x.student_name)\n",
    "        if not sorted_results:\n",
    "            print(\"No matching students found.\")\n",
    "        else:\n",
    "            print(\"Matching Students (Sorted by Name):\")\n",
    "            for student in sorted_results:\n",
    "                print(f\"ID: {student.student_id}, Name: {student.student_name}, Semester: {student.semester}, Course: {student.course_name}\")\n",
    "\n",
    "    def update_or_delete_student(self):\n",
    "        student_id = input(\"Enter Student ID to update/delete: \")\n",
    "        student = next((s for s in self.students if s.student_id == student_id), None)\n",
    "        if student:\n",
    "            action = input(\"Choose an action (U for Update, D for Delete): \").lower()\n",
    "            if action == 'u':\n",
    "                student.student_name = input(\"Enter updated Student Name: \")\n",
    "                student.semester = input(\"Enter updated Semester: \")\n",
    "                student.course_name = input(\"Enter updated Course Name: \")\n",
    "                print(\"Student information updated successfully!\")\n",
    "            elif action == 'd':\n",
    "                self.students.remove(student)\n",
    "                print(\"Student deleted successfully!\")\n",
    "            else:\n",
    "                print(\"Invalid action.\")\n",
    "        else:\n",
    "            print(\"Student not found.\")\n",
    "\n",
    "    def display_report(self):\n",
    "        print(\"Student Report:\")\n",
    "        for student in self.students:\n",
    "            print(f\"ID: {student.student_id}, Name: {student.student_name}, Semester: {student.semester}, Course: {student.course_name}\")\n",
    "\n",
    "    def run(self):\n",
    "        while True:\n",
    "            print(\"\\nWELCOME TO STUDENT MANAGEMENT\")\n",
    "            print(\"1. Create\")\n",
    "            print(\"2. Find and Sort\")\n",
    "            print(\"3. Update/Delete\")\n",
    "            print(\"4. Report\")\n",
    "            print(\"5. Exit\")\n",
    "\n",
    "            choice = input(\"Enter your choice: \")\n",
    "\n",
    "            if choice == '1':\n",
    "                self.create_student()\n",
    "            elif choice == '2':\n",
    "                self.find_and_sort_students()\n",
    "            elif choice == '3':\n",
    "                self.update_or_delete_student()\n",
    "            elif choice == '4':\n",
    "                self.display_report()\n",
    "            elif choice == '5':\n",
    "                print(\"Exiting Student Management System. Goodbye!\")\n",
    "                break\n",
    "            else:\n",
    "                print(\"Invalid choice. Please select a valid option.\")\n",
    "\n",
    "if __name__ == \"__main__\":\n",
    "    sms = StudentManagementSystem()\n",
    "    sms.run()\n"
   ]
  },
  {
   "cell_type": "code",
   "execution_count": null,
   "id": "f254558a-9fe3-493c-b313-314a3ad92886",
   "metadata": {},
   "outputs": [],
   "source": []
  }
 ],
 "metadata": {
  "kernelspec": {
   "display_name": "Python 3 (ipykernel)",
   "language": "python",
   "name": "python3"
  },
  "language_info": {
   "codemirror_mode": {
    "name": "ipython",
    "version": 3
   },
   "file_extension": ".py",
   "mimetype": "text/x-python",
   "name": "python",
   "nbconvert_exporter": "python",
   "pygments_lexer": "ipython3",
   "version": "3.11.5"
  }
 },
 "nbformat": 4,
 "nbformat_minor": 5
}
