{
 "cells": [
  {
   "cell_type": "code",
   "execution_count": 32,
   "id": "32101af0-7352-4fcf-8c9e-70a82927adca",
   "metadata": {},
   "outputs": [
    {
     "name": "stdout",
     "output_type": "stream",
     "text": [
      "The average score of all student:  84.33333333333333\n"
     ]
    }
   ],
   "source": [
    "# Exercise 1\n",
    "def average_score():\n",
    "    avg, sum, listAvg = 0, 0, []\n",
    "    f = open('student_data.txt', 'r')\n",
    "    for x in f:\n",
    "        listAvg.append(x.split())\n",
    "    for i in listAvg:\n",
    "        sum += int(i[1])\n",
    "    avg = sum/len(listAvg)\n",
    "    f.close()\n",
    "    return avg;\n",
    "if __name__ == \"__main__\":\n",
    "    student_data = [('Alice', 90), ('Bob', 85), ('Charlie', 78)]\n",
    "    with open('student_data.txt', 'w') as outputFile:\n",
    "        for i in student_data:\n",
    "            outputFile.write(f'{i[0]} {i[1]}\\n')\n",
    "    outputFile.close()\n",
    "    print(\"The average score of all student: \", average_score())"
   ]
  },
  {
   "cell_type": "code",
   "execution_count": 42,
   "id": "ccadfc07-65c5-439b-bb62-b88e35cdf547",
   "metadata": {},
   "outputs": [
    {
     "name": "stdin",
     "output_type": "stream",
     "text": [
      "Input hour:  12\n",
      "Input minute:  60\n"
     ]
    },
    {
     "name": "stdout",
     "output_type": "stream",
     "text": [
      "30.0\n"
     ]
    }
   ],
   "source": [
    "# Exercise 2\n"
   ]
  },
  {
   "cell_type": "code",
   "execution_count": 46,
   "id": "a426073f-1072-4393-87e7-0de99187ed3d",
   "metadata": {},
   "outputs": [
    {
     "ename": "SyntaxError",
     "evalue": "invalid syntax (3808856092.py, line 16)",
     "output_type": "error",
     "traceback": [
      "\u001b[1;36m  Cell \u001b[1;32mIn[46], line 16\u001b[1;36m\u001b[0m\n\u001b[1;33m    return self.__personalId = personalId;\u001b[0m\n\u001b[1;37m                             ^\u001b[0m\n\u001b[1;31mSyntaxError\u001b[0m\u001b[1;31m:\u001b[0m invalid syntax\n"
     ]
    }
   ],
   "source": [
    "# Exercise 3\n",
    "class Person:\n",
    "    def __init__(self, personalId, name, birthYear, email, salaryCoefficient, personnelType):\n",
    "        self.__personalId = personalId\n",
    "        self.__name = name\n",
    "        self.__birthYear = birthYear\n",
    "        self.__email = email\n",
    "        self.__salaryCoefficient = salaryCoefficient\n",
    "        self.__personnelType = personnelType\n",
    "\n",
    "    @property\n",
    "    def personalId(self):\n",
    "        return self.__personalId;\n",
    "    @personalId.setter\n",
    "    def personalId(self, personalId):\n",
    "        return self.__personalId = personalId;\n",
    "\n",
    "    @property\n",
    "    def name(self):\n",
    "        return self.__name;\n",
    "    @name.setter\n",
    "    def name(self, name):\n",
    "        return self.__name = name;\n",
    "\n",
    "    @property\n",
    "    def birthYear(self):\n",
    "        return self.__birthYear;\n",
    "    @birthYear.setter\n",
    "    def birthYear(self, birthYear):\n",
    "        return self.__birthYear = birthYear;\n",
    "\n",
    "    @property\n",
    "    def email(self):\n",
    "        return self.__email;\n",
    "    @email.setter\n",
    "    def email(self, email):\n",
    "        return self.__email = email;\n",
    "\n",
    "    @property\n",
    "    def salaryCoefficient(self):\n",
    "        return self.__salaryCoefficient;\n",
    "    @personalId.setter\n",
    "    def salaryCoefficient(self, salaryCoefficient):\n",
    "        return self.__salaryCoefficient = salaryCoefficient;\n",
    "\n",
    "    @property\n",
    "    def personnelType(self):\n",
    "        return self.__personnelType;\n",
    "    @personnelType.setter\n",
    "    def personnelType(self, personnelType):\n",
    "        return self.__personnelType = personnelType;"
   ]
  },
  {
   "cell_type": "code",
   "execution_count": 34,
   "id": "3d9ff7d7-90cd-44e4-bd45-8ffb2d350ff8",
   "metadata": {},
   "outputs": [],
   "source": [
    "class Managers(Person):\n",
    "    def __inti__(self, personalId, name, birthYear, email, salaryCoefficient, personnelType, positionCoefficient):\n",
    "        super().__init__(personalId, name, birthYear, email, salaryCoefficient, personnelType)\n",
    "        self.__positionCoefficient = positionCoefficient\n",
    "\n",
    "    @property\n",
    "    def positionCoefficient(self):\n",
    "        return self.__positionCoefficient;\n",
    "    @positionCoefficient.setter\n",
    "    def positionCoefficient(self, positionCoefficient):\n",
    "        return self.__positionCoefficient = positionCoefficient;"
   ]
  },
  {
   "cell_type": "code",
   "execution_count": 35,
   "id": "1669830e-f516-4998-86f5-6d37ac752b68",
   "metadata": {},
   "outputs": [],
   "source": [
    "class Employees(Person):\n",
    "    def __inti__(self, personalId, name, birthYear, email, salaryCoefficient, personnelType, productionTeam):\n",
    "        super().__init__(personalId, name, birthYear, email, salaryCoefficient, personnelType)\n",
    "        self.__productionTeam = productionTeam\n",
    "\n",
    "    @property\n",
    "    def productionTeam(self):\n",
    "        return self.__productionTeam;\n",
    "    @productionTeam.setter\n",
    "    def productionTeam(self, productionTeam):\n",
    "        return self.__productionTeam = productionTeam;"
   ]
  },
  {
   "cell_type": "code",
   "execution_count": 45,
   "id": "600d1ea9-8eff-4ddb-bf54-8de404ccc087",
   "metadata": {},
   "outputs": [
    {
     "name": "stdout",
     "output_type": "stream",
     "text": [
      "\n",
      "HUMAN RESOURCES MANAGEMENT PROGRAM:\n",
      "\n",
      "1. Enter personnel information\n",
      "\n",
      "2. Personnel statistics\n",
      "\n",
      "3. Highest salary\n",
      "\n",
      "4. Exit\n"
     ]
    },
    {
     "name": "stdin",
     "output_type": "stream",
     "text": [
      "Enter your choice:  1\n"
     ]
    },
    {
     "name": "stdout",
     "output_type": "stream",
     "text": [
      "Personnel information: \n",
      "\n",
      "1. Managers\n",
      "\n",
      "2. Employees\n",
      "\n"
     ]
    },
    {
     "name": "stdin",
     "output_type": "stream",
     "text": [
      "Choice:  1\n"
     ]
    },
    {
     "name": "stdout",
     "output_type": "stream",
     "text": [
      "\n",
      "Information for Manager:\n",
      "\n"
     ]
    },
    {
     "name": "stdin",
     "output_type": "stream",
     "text": [
      "Enter Personal Id:  a\n",
      "Enter Name:  a\n",
      "Enter Birth year:  a\n",
      "Enter email:  a\n",
      "Enter salary cofficient:  a\n",
      "Enter position coefficient a\n"
     ]
    },
    {
     "ename": "TypeError",
     "evalue": "Person.__init__() takes 7 positional arguments but 8 were given",
     "output_type": "error",
     "traceback": [
      "\u001b[1;31m---------------------------------------------------------------------------\u001b[0m",
      "\u001b[1;31mTypeError\u001b[0m                                 Traceback (most recent call last)",
      "Cell \u001b[1;32mIn[45], line 56\u001b[0m\n\u001b[0;32m     53\u001b[0m             \u001b[38;5;28mprint\u001b[39m(\u001b[38;5;124m\"\u001b[39m\u001b[38;5;124mInvalid choice. Please select a valid option.\u001b[39m\u001b[38;5;124m\"\u001b[39m)\n\u001b[0;32m     55\u001b[0m \u001b[38;5;28;01mif\u001b[39;00m \u001b[38;5;18m__name__\u001b[39m \u001b[38;5;241m==\u001b[39m \u001b[38;5;124m\"\u001b[39m\u001b[38;5;124m__main__\u001b[39m\u001b[38;5;124m\"\u001b[39m:\n\u001b[1;32m---> 56\u001b[0m     \u001b[43mrunProgram\u001b[49m\u001b[43m(\u001b[49m\u001b[43m)\u001b[49m\n",
      "Cell \u001b[1;32mIn[45], line 44\u001b[0m, in \u001b[0;36mrunProgram\u001b[1;34m()\u001b[0m\n\u001b[0;32m     41\u001b[0m n \u001b[38;5;241m=\u001b[39m \u001b[38;5;28minput\u001b[39m(\u001b[38;5;124m\"\u001b[39m\u001b[38;5;124mEnter your choice: \u001b[39m\u001b[38;5;124m\"\u001b[39m)\n\u001b[0;32m     43\u001b[0m \u001b[38;5;28;01mif\u001b[39;00m n \u001b[38;5;241m==\u001b[39m \u001b[38;5;124m'\u001b[39m\u001b[38;5;124m1\u001b[39m\u001b[38;5;124m'\u001b[39m:\n\u001b[1;32m---> 44\u001b[0m     \u001b[43mcreatePersonnel\u001b[49m\u001b[43m(\u001b[49m\u001b[43m)\u001b[49m\n\u001b[0;32m     45\u001b[0m \u001b[38;5;28;01melif\u001b[39;00m n \u001b[38;5;241m==\u001b[39m \u001b[38;5;124m'\u001b[39m\u001b[38;5;124m2\u001b[39m\u001b[38;5;124m'\u001b[39m:\n\u001b[0;32m     46\u001b[0m     \u001b[38;5;28;01mpass\u001b[39;00m\n",
      "Cell \u001b[1;32mIn[45], line 16\u001b[0m, in \u001b[0;36mcreatePersonnel\u001b[1;34m()\u001b[0m\n\u001b[0;32m     14\u001b[0m     salaryCoff \u001b[38;5;241m=\u001b[39m \u001b[38;5;28minput\u001b[39m(\u001b[38;5;124m\"\u001b[39m\u001b[38;5;124mEnter salary cofficient: \u001b[39m\u001b[38;5;124m\"\u001b[39m)\n\u001b[0;32m     15\u001b[0m     positionCoefficient \u001b[38;5;241m=\u001b[39m \u001b[38;5;28minput\u001b[39m(\u001b[38;5;124m\"\u001b[39m\u001b[38;5;124mEnter position coefficient\u001b[39m\u001b[38;5;124m\"\u001b[39m)\n\u001b[1;32m---> 16\u001b[0m     manager \u001b[38;5;241m=\u001b[39m \u001b[43mManagers\u001b[49m\u001b[43m(\u001b[49m\u001b[43mpersonalId\u001b[49m\u001b[43m,\u001b[49m\u001b[43m \u001b[49m\u001b[43mname\u001b[49m\u001b[43m,\u001b[49m\u001b[43m \u001b[49m\u001b[43mbirthYear\u001b[49m\u001b[43m,\u001b[49m\u001b[43m \u001b[49m\u001b[43memail\u001b[49m\u001b[43m,\u001b[49m\u001b[43m \u001b[49m\u001b[43msalaryCoff\u001b[49m\u001b[43m,\u001b[49m\u001b[43m \u001b[49m\u001b[38;5;241;43m1\u001b[39;49m\u001b[43m,\u001b[49m\u001b[43m \u001b[49m\u001b[43mpositionCoefficient\u001b[49m\u001b[43m)\u001b[49m\n\u001b[0;32m     17\u001b[0m     listPerson\u001b[38;5;241m.\u001b[39mappend(manager)\n\u001b[0;32m     18\u001b[0m \u001b[38;5;28;01melif\u001b[39;00m manOrEmp\u001b[38;5;241m==\u001b[39m\u001b[38;5;124m'\u001b[39m\u001b[38;5;124m2\u001b[39m\u001b[38;5;124m'\u001b[39m:\n",
      "\u001b[1;31mTypeError\u001b[0m: Person.__init__() takes 7 positional arguments but 8 were given"
     ]
    }
   ],
   "source": [
    "listPerson = []\n",
    "def createPersonnel():\n",
    "    while True:\n",
    "        print(\"Personnel information: \\n\")\n",
    "        print(\"1. Managers\\n\")\n",
    "        print(\"2. Employees\\n\")\n",
    "        manOrEmp = input(\"Choice: \")\n",
    "        if manOrEmp=='1':\n",
    "            print(\"\\nInformation for Manager:\\n\")\n",
    "            personalId = input(\"Enter Personal Id: \")\n",
    "            name = input(\"Enter Name: \")\n",
    "            birthYear = input(\"Enter Birth year: \")\n",
    "            email = input(\"Enter email: \")\n",
    "            salaryCoff = input(\"Enter salary cofficient: \")\n",
    "            positionCoefficient = input(\"Enter position coefficient\")\n",
    "            manager = Managers(personalId, name, birthYear, email, salaryCoff, 1, positionCoefficient)\n",
    "            listPerson.append(manager)\n",
    "        elif manOrEmp=='2':\n",
    "            print(\"\\nInformation for Employee:\\n\")\n",
    "            personalId = input(\"Enter Personal Id: \")\n",
    "            name = input(\"Enter Name: \")\n",
    "            birthYear = input(\"Enter Birth year: \")\n",
    "            email = input(\"Enter email: \")\n",
    "            salaryCoff = input(\"Enter salary cofficient: \")\n",
    "            productionTeam = input(\"Enter position coefficient\")\n",
    "            employee = Employees(personalId, name, birthYear, email, salaryCoff, 2, productionTeam)\n",
    "            listPerson.append(employee)\n",
    "        else:\n",
    "            print(\"Please Enter choice again: \")\n",
    "        yesOrNo = input(\"Do you want to continue (Y/N)?\")\n",
    "        if (yesOrNo == \"N\"):\n",
    "            break\n",
    "def runProgram():\n",
    "    while True:\n",
    "        print(\"\\nHUMAN RESOURCES MANAGEMENT PROGRAM:\\n\")\n",
    "        print(\"1. Enter personnel information\\n\")\n",
    "        print(\"2. Personnel statistics\\n\")\n",
    "        print(\"3. Highest salary\\n\")\n",
    "        print(\"4. Exit\")\n",
    "\n",
    "        n = input(\"Enter your choice: \")\n",
    "\n",
    "        if n == '1':\n",
    "            createPersonnel()\n",
    "        elif n == '2':\n",
    "            pass\n",
    "        elif n == '3':\n",
    "            pass\n",
    "        elif n == '4':\n",
    "            print(\"Exiting Human Resources Management Program\")\n",
    "            break\n",
    "        else:\n",
    "            print(\"Invalid choice. Please select a valid option.\")\n",
    "                \n",
    "if __name__ == \"__main__\":\n",
    "    runProgram()"
   ]
  },
  {
   "cell_type": "code",
   "execution_count": null,
   "id": "75f95393-ba5c-47b5-a7a1-0a440690058a",
   "metadata": {},
   "outputs": [],
   "source": []
  }
 ],
 "metadata": {
  "kernelspec": {
   "display_name": "Python 3 (ipykernel)",
   "language": "python",
   "name": "python3"
  },
  "language_info": {
   "codemirror_mode": {
    "name": "ipython",
    "version": 3
   },
   "file_extension": ".py",
   "mimetype": "text/x-python",
   "name": "python",
   "nbconvert_exporter": "python",
   "pygments_lexer": "ipython3",
   "version": "3.11.5"
  }
 },
 "nbformat": 4,
 "nbformat_minor": 5
}
