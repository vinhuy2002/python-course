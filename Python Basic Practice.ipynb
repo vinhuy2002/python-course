{
 "cells": [
  {
   "cell_type": "code",
   "execution_count": 3,
   "id": "50c5d664",
   "metadata": {},
   "outputs": [
    {
     "name": "stdout",
     "output_type": "stream",
     "text": [
      "Number a: 9\n",
      "This is an odd number\n"
     ]
    }
   ],
   "source": [
    "a = int(input(\"Number a: \"))\n",
    "mod = a % 2\n",
    "if (mod == 0):\n",
    "    print(\"This is an even number\")\n",
    "else:\n",
    "    print(\"This is an odd number\")"
   ]
  },
  {
   "cell_type": "code",
   "execution_count": 4,
   "id": "503b1af6",
   "metadata": {},
   "outputs": [
    {
     "name": "stdout",
     "output_type": "stream",
     "text": [
      "a = 3\n",
      "b = 6\n",
      "c = 5\n",
      "No value\n"
     ]
    }
   ],
   "source": [
    "import math\n",
    "a = int(input(\"a = \"))\n",
    "b = int(input(\"b = \"))\n",
    "c = int(input(\"c = \"))\n",
    "\n",
    "if (a==0):\n",
    "    print(\"Incorrect input\")\n",
    "else:\n",
    "    dis = b*b - 4*a*c\n",
    "    if (dis > 0):\n",
    "        sqrtNum = math.sqrt(dis)\n",
    "        print((-b+sqrtNum)/(2*a))\n",
    "        print((-b-sqrtNum)/(2*a))\n",
    "    elif (dis == 0):\n",
    "        print((-b)/(2*a))\n",
    "    else:\n",
    "        print(\"No value\")"
   ]
  },
  {
   "cell_type": "code",
   "execution_count": 5,
   "id": "ccec19c5",
   "metadata": {},
   "outputs": [
    {
     "name": "stdout",
     "output_type": "stream",
     "text": [
      "8\n",
      "36.0\n"
     ]
    }
   ],
   "source": [
    "n = int(input())\n",
    "sum = (n*(n+1))/2\n",
    "print(sum)"
   ]
  },
  {
   "cell_type": "code",
   "execution_count": null,
   "id": "6cf46689",
   "metadata": {},
   "outputs": [],
   "source": []
  }
 ],
 "metadata": {
  "kernelspec": {
   "display_name": "Python 3 (ipykernel)",
   "language": "python",
   "name": "python3"
  },
  "language_info": {
   "codemirror_mode": {
    "name": "ipython",
    "version": 3
   },
   "file_extension": ".py",
   "mimetype": "text/x-python",
   "name": "python",
   "nbconvert_exporter": "python",
   "pygments_lexer": "ipython3",
   "version": "3.11.4"
  }
 },
 "nbformat": 4,
 "nbformat_minor": 5
}
