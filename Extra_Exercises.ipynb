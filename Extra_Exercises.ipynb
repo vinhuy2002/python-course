{
 "cells": [
  {
   "cell_type": "code",
   "execution_count": 11,
   "id": "f67f6a10-882e-4abf-9a21-26e913df9556",
   "metadata": {},
   "outputs": [
    {
     "name": "stdin",
     "output_type": "stream",
     "text": [
      "Enter a:  12\n",
      "Enter b:  89\n"
     ]
    },
    {
     "name": "stdout",
     "output_type": "stream",
     "text": [
      "16\n",
      "25\n",
      "36\n",
      "49\n",
      "64\n",
      "81\n"
     ]
    }
   ],
   "source": [
    "# Ex 1\n",
    "import math\n",
    "\n",
    "a = int(input(\"Enter a: \"))\n",
    "b = int(input(\"Enter b: \"))\n",
    "if (a>b):\n",
    "    print(\"Invalid\")    \n",
    "else:\n",
    "    for i in range(a, b, 1):\n",
    "        if(int(math.sqrt(i))**2 == i):\n",
    "            print(i)"
   ]
  },
  {
   "cell_type": "code",
   "execution_count": 12,
   "id": "bd45022c-380c-4ca7-8751-6ad89709b0da",
   "metadata": {},
   "outputs": [
    {
     "name": "stdin",
     "output_type": "stream",
     "text": [
      "Enter a:  120\n",
      "Enter b:  100\n"
     ]
    },
    {
     "name": "stdout",
     "output_type": "stream",
     "text": [
      "600\n"
     ]
    }
   ],
   "source": [
    "# Ex 2\n",
    "a = int(input(\"Enter a: \"))\n",
    "b = int(input(\"Enter b: \"))\n",
    "print(math.lcm(a,b))"
   ]
  },
  {
   "cell_type": "code",
   "execution_count": 51,
   "id": "0a54cd90-957f-48ef-992d-238fe4aa214e",
   "metadata": {},
   "outputs": [],
   "source": [
    "# Ex 3\n",
    "class Rectangle:\n",
    "    def __init__(self, width, height):\n",
    "        self.width = width\n",
    "        self.height = height\n",
    "    def fitsInside(self, otherWidth, otherHeight):\n",
    "        if (self.width <= otherWidth and self.height <= otherHeight) or (self.width <= otherHeight and self.height <= otherWidth):\n",
    "            self.width = otherWidth\n",
    "            self.height = otherHeight\n",
    "            return True\n",
    "        else:\n",
    "            return False"
   ]
  },
  {
   "cell_type": "code",
   "execution_count": 53,
   "id": "33891417-5673-4ec1-a047-85ad116d27f8",
   "metadata": {},
   "outputs": [
    {
     "name": "stdout",
     "output_type": "stream",
     "text": [
      "Not nesting sequence\n"
     ]
    }
   ],
   "source": [
    "f = open(\"./rectangles.txt\", \"r\")\n",
    "n = int(f.readline())\n",
    "listA = []\n",
    "for x in f:\n",
    "    listTest = []\n",
    "    for a in x.split():\n",
    "        listTest.append(a)\n",
    "    listA.append(listTest)\n",
    "a = Rectangle(listA[0][0], listA[0][1])\n",
    "check = True\n",
    "for i in range(1, n, 1):\n",
    "    if (a.fitsInside(listA[i][0], listA[i][1]) == False):\n",
    "        check = False\n",
    "        break\n",
    "if (check):\n",
    "    print(\"Nesting sequence\")\n",
    "else:\n",
    "    print(\"Not nesting sequence\")\n",
    "f.close()"
   ]
  },
  {
   "cell_type": "code",
   "execution_count": 80,
   "id": "45654719-75ae-4ef6-9867-8281d1ad2118",
   "metadata": {},
   "outputs": [],
   "source": [
    "# Ex 4\n",
    "class Time:\n",
    "    def __init__(self, hour, minute):\n",
    "        self.hour = hour\n",
    "        self.minute = minute\n",
    "    def __add__(self, other):\n",
    "        self.hour = self.hour + other.hour\n",
    "        self.minute = self.minute + other.minute\n",
    "    def __str__(self):\n",
    "        test = self.minute // 60\n",
    "        self.minute = self.minute % 60\n",
    "        self.hour += test\n",
    "        print(self.hour, \"hours and\", self.minute, \"minutes\")"
   ]
  },
  {
   "cell_type": "code",
   "execution_count": 102,
   "id": "d1551f49-25b8-4aca-99da-eb8a3231529e",
   "metadata": {},
   "outputs": [
    {
     "name": "stdout",
     "output_type": "stream",
     "text": [
      "16 hours and 35 minutes\n"
     ]
    }
   ],
   "source": [
    "f = open(\"./time.txt\", \"r\")\n",
    "listA = []\n",
    "for x in f:\n",
    "    listTest = []\n",
    "    for a in x.split():\n",
    "        listTest.append(a)\n",
    "    listA.append(listTest)\n",
    "a = Time(int(listA[0][0]), int(listA[0][1]))\n",
    "for i in range(1, len(listA), 1):\n",
    "    b = Time(int(listA[i][0]), int(listA[i][1]))\n",
    "    a.__add__(b)\n",
    "a.__str__()\n",
    "f.close()"
   ]
  },
  {
   "cell_type": "code",
   "execution_count": 11,
   "id": "3f157be5-9021-4cda-a199-f05a236215c7",
   "metadata": {},
   "outputs": [
    {
     "name": "stdout",
     "output_type": "stream",
     "text": [
      "[['12/5'], ['94/37'], ['25/3'], ['90/57']]\n",
      "['12', '5']\n",
      "['94', '37']\n",
      "['25', '3']\n",
      "['90', '57']\n"
     ]
    }
   ],
   "source": [
    "class Fraction:\n",
    "    def __init__(self, a, b):\n",
    "        self.a = a\n",
    "        self.b = b\n",
    "        \n",
    "    def maxFrac(self, a, b):\n",
    "        \n",
    "f = open(\"./fraction.txt\", \"r\")\n",
    "listA = []\n",
    "for x in f:\n",
    "    test = []\n",
    "    for i in x.split():\n",
    "        test.append(i)\n",
    "    listA.append(test)\n",
    "print(listA)\n",
    "for i in listA:\n",
    "    print(i[0].split('/'))\n",
    "f.close()"
   ]
  },
  {
   "cell_type": "code",
   "execution_count": null,
   "id": "08a09eab-7098-4684-8d85-68931569f377",
   "metadata": {},
   "outputs": [],
   "source": []
  },
  {
   "cell_type": "code",
   "execution_count": null,
   "id": "4eca2fce-f872-478a-a54c-2ff953a2e313",
   "metadata": {},
   "outputs": [],
   "source": []
  }
 ],
 "metadata": {
  "kernelspec": {
   "display_name": "Python 3 (ipykernel)",
   "language": "python",
   "name": "python3"
  },
  "language_info": {
   "codemirror_mode": {
    "name": "ipython",
    "version": 3
   },
   "file_extension": ".py",
   "mimetype": "text/x-python",
   "name": "python",
   "nbconvert_exporter": "python",
   "pygments_lexer": "ipython3",
   "version": "3.11.5"
  }
 },
 "nbformat": 4,
 "nbformat_minor": 5
}
