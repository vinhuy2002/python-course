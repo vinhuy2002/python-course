{
 "cells": [
  {
   "cell_type": "code",
   "execution_count": null,
   "id": "e5871902",
   "metadata": {},
   "outputs": [],
   "source": [
    "# Trần Nguyễn Vĩnh Uy - 20IT502"
   ]
  },
  {
   "cell_type": "code",
   "execution_count": 11,
   "id": "f87cf896",
   "metadata": {},
   "outputs": [],
   "source": [
    "# 2.1"
   ]
  },
  {
   "cell_type": "code",
   "execution_count": 9,
   "id": "8f5c8dd0",
   "metadata": {},
   "outputs": [],
   "source": [
    "import math"
   ]
  },
  {
   "cell_type": "code",
   "execution_count": 23,
   "id": "d42b2a0f",
   "metadata": {},
   "outputs": [
    {
     "name": "stdout",
     "output_type": "stream",
     "text": [
      "Enter number: 12\n",
      "3.4641016151377544\n"
     ]
    }
   ],
   "source": [
    "a = int(input(\"Enter number: \"))\n",
    "print(math.sqrt(a))"
   ]
  },
  {
   "cell_type": "code",
   "execution_count": 16,
   "id": "6d797a5b",
   "metadata": {},
   "outputs": [],
   "source": [
    "# 2.2"
   ]
  },
  {
   "cell_type": "code",
   "execution_count": 19,
   "id": "ba1b7a06",
   "metadata": {},
   "outputs": [
    {
     "name": "stdout",
     "output_type": "stream",
     "text": [
      "Enter string: ashdkahsdkasdh\n",
      "14\n"
     ]
    }
   ],
   "source": [
    "strA = input(\"Enter string: \")\n",
    "print(len(strA))"
   ]
  },
  {
   "cell_type": "code",
   "execution_count": 24,
   "id": "7e7dc99a",
   "metadata": {},
   "outputs": [],
   "source": [
    "# 2.3 Read"
   ]
  },
  {
   "cell_type": "code",
   "execution_count": null,
   "id": "57f54c70",
   "metadata": {},
   "outputs": [],
   "source": []
  }
 ],
 "metadata": {
  "kernelspec": {
   "display_name": "Python 3 (ipykernel)",
   "language": "python",
   "name": "python3"
  },
  "language_info": {
   "codemirror_mode": {
    "name": "ipython",
    "version": 3
   },
   "file_extension": ".py",
   "mimetype": "text/x-python",
   "name": "python",
   "nbconvert_exporter": "python",
   "pygments_lexer": "ipython3",
   "version": "3.11.4"
  }
 },
 "nbformat": 4,
 "nbformat_minor": 5
}
