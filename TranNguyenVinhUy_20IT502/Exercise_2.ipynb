{
 "cells": [
  {
   "cell_type": "code",
   "execution_count": 1,
   "id": "b88f299b-ddc6-4d53-a984-25e18b0894fe",
   "metadata": {},
   "outputs": [
    {
     "name": "stdin",
     "output_type": "stream",
     "text": [
      "Input hour:  12\n",
      "Input minute:  60\n"
     ]
    },
    {
     "name": "stdout",
     "output_type": "stream",
     "text": [
      "30.0\n"
     ]
    }
   ],
   "source": [
    "# Exercise 2\n",
    "def calculateAngle(h,m):\n",
    "    if (h < 0 or m < 0 or h > 12 or m > 60):\n",
    "        return \"Wrong Input, Please try again\"\n",
    "    else: \n",
    "        if (h == 12):\n",
    "            h = 0\n",
    "        elif (m == 60):\n",
    "            m = 0\n",
    "            h += 1;\n",
    "            if(h>12):\n",
    "                h = h-12\n",
    "        hour_angle = 0.5 * (h * 60 + m)\n",
    "        minute_angle = 6 * m\n",
    "        angle = abs(hour_angle - minute_angle)\n",
    "        angle = min(360 - angle, angle)\n",
    "        return angle\n",
    "\n",
    "h = int(input(\"Input hour: \"))\n",
    "m = int(input(\"Input minute: \"))\n",
    "print(calculateAngle(h,m))"
   ]
  },
  {
   "cell_type": "code",
   "execution_count": null,
   "id": "51897aa1-5979-43c8-81f3-cbe10e72c13c",
   "metadata": {},
   "outputs": [],
   "source": []
  }
 ],
 "metadata": {
  "kernelspec": {
   "display_name": "Python 3 (ipykernel)",
   "language": "python",
   "name": "python3"
  },
  "language_info": {
   "codemirror_mode": {
    "name": "ipython",
    "version": 3
   },
   "file_extension": ".py",
   "mimetype": "text/x-python",
   "name": "python",
   "nbconvert_exporter": "python",
   "pygments_lexer": "ipython3",
   "version": "3.11.5"
  }
 },
 "nbformat": 4,
 "nbformat_minor": 5
}
