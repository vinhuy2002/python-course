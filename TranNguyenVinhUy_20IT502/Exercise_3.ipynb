{
 "cells": [
  {
   "cell_type": "code",
   "execution_count": 5,
   "id": "bb12207c-ca8e-4703-b1ad-77698f0acf46",
   "metadata": {},
   "outputs": [],
   "source": [
    "# Exercise 3\n",
    "class Person:\n",
    "    def __init__(self, personalId, name, birthYear, email, salaryCoefficient, personnelType):\n",
    "        self.__personalId = personalId\n",
    "        self.__name = name\n",
    "        self.__birthYear = birthYear\n",
    "        self.__email = email\n",
    "        self.__salaryCoefficient = salaryCoefficient\n",
    "        self.__personnelType = personnelType\n",
    "\n",
    "    @property\n",
    "    def personalId(self):\n",
    "        return self.__personalId\n",
    "    @personalId.setter\n",
    "    def personalId(self, personalId):\n",
    "        self.__personalId = personalId\n",
    "\n",
    "    @property\n",
    "    def name(self):\n",
    "        return self.__name\n",
    "    @name.setter\n",
    "    def name(self, name):\n",
    "        self.__name = name\n",
    "\n",
    "    @property\n",
    "    def birthYear(self):\n",
    "        return self.__birthYear\n",
    "    @birthYear.setter\n",
    "    def birthYear(self, birthYear):\n",
    "        self.__birthYear = birthYear\n",
    "\n",
    "    @property\n",
    "    def email(self):\n",
    "        return self.__email\n",
    "    @email.setter\n",
    "    def email(self, email):\n",
    "        self.__email = email\n",
    "\n",
    "    @property\n",
    "    def salaryCoefficient(self):\n",
    "        return self.__salaryCoefficient\n",
    "    @personalId.setter\n",
    "    def salaryCoefficient(self, salaryCoefficient):\n",
    "        self.__salaryCoefficient = salaryCoefficient\n",
    "\n",
    "    @property\n",
    "    def personnelType(self):\n",
    "        return self.__personnelType;\n",
    "    @personnelType.setter\n",
    "    def personnelType(self, personnelType):\n",
    "        self.__personnelType = personnelType\n",
    "\n",
    "class Managers(Person):\n",
    "    def __inti__(self, personalId, name, birthYear, email, salaryCoefficient, positionCoefficient):\n",
    "        super().__init__(personalId, name, birthYear, email, salaryCoefficient, 1)\n",
    "        self.__positionCoefficient = positionCoefficient\n",
    "\n",
    "    @property\n",
    "    def positionCoefficient(self):\n",
    "        return self.__positionCoefficient\n",
    "    @positionCoefficient.setter\n",
    "    def positionCoefficient(self, positionCoefficient):\n",
    "        self.__positionCoefficient = positionCoefficient\n",
    "\n",
    "class Employees(Person):\n",
    "    def __inti__(self, personalId, name, birthYear, email, salaryCoefficient, productionTeam):\n",
    "        super().__init__(personalId, name, birthYear, email, salaryCoefficient, 2)\n",
    "        self.__productionTeam = productionTeam\n",
    "\n",
    "    @property\n",
    "    def productionTeam(self):\n",
    "        return self.__productionTeam\n",
    "    @productionTeam.setter\n",
    "    def productionTeam(self, productionTeam):\n",
    "        self.__productionTeam = productionTeam"
   ]
  },
  {
   "cell_type": "code",
   "execution_count": 7,
   "id": "ff825ac8-629c-4111-8077-8d37e18b533a",
   "metadata": {},
   "outputs": [
    {
     "name": "stdout",
     "output_type": "stream",
     "text": [
      "\n",
      "HUMAN RESOURCES MANAGEMENT PROGRAM:\n",
      "\n",
      "1. Enter personnel information\n",
      "\n",
      "2. Personnel statistics\n",
      "\n",
      "3. Highest salary\n",
      "\n",
      "4. Exit\n"
     ]
    },
    {
     "name": "stdin",
     "output_type": "stream",
     "text": [
      "Enter your choice:  1\n"
     ]
    },
    {
     "name": "stdout",
     "output_type": "stream",
     "text": [
      "Personnel information: \n",
      "\n",
      "1. Managers\n",
      "\n",
      "2. Employees\n",
      "\n"
     ]
    },
    {
     "name": "stdin",
     "output_type": "stream",
     "text": [
      "Choice:  1\n"
     ]
    },
    {
     "name": "stdout",
     "output_type": "stream",
     "text": [
      "\n",
      "Information for Manager:\n",
      "\n"
     ]
    },
    {
     "name": "stdin",
     "output_type": "stream",
     "text": [
      "Enter Personal Id:  1\n",
      "Enter Name:  1\n",
      "Enter Birth year:  1\n",
      "Enter email:  1\n",
      "Enter salary cofficient:  1\n",
      "Enter position coefficient 1\n",
      "Do you want to continue (Y/N)? Y\n"
     ]
    },
    {
     "name": "stdout",
     "output_type": "stream",
     "text": [
      "Personnel information: \n",
      "\n",
      "1. Managers\n",
      "\n",
      "2. Employees\n",
      "\n"
     ]
    },
    {
     "name": "stdin",
     "output_type": "stream",
     "text": [
      "Choice:  1\n"
     ]
    },
    {
     "name": "stdout",
     "output_type": "stream",
     "text": [
      "\n",
      "Information for Manager:\n",
      "\n"
     ]
    },
    {
     "name": "stdin",
     "output_type": "stream",
     "text": [
      "Enter Personal Id:  1\n",
      "Enter Name:  1\n",
      "Enter Birth year:  1\n",
      "Enter email:  1\n",
      "Enter salary cofficient:  1\n",
      "Enter position coefficient 1\n",
      "Do you want to continue (Y/N)? n\n"
     ]
    },
    {
     "name": "stdout",
     "output_type": "stream",
     "text": [
      "Personnel information: \n",
      "\n",
      "1. Managers\n",
      "\n",
      "2. Employees\n",
      "\n"
     ]
    },
    {
     "name": "stdin",
     "output_type": "stream",
     "text": [
      "Choice:  1\n"
     ]
    },
    {
     "name": "stdout",
     "output_type": "stream",
     "text": [
      "\n",
      "Information for Manager:\n",
      "\n"
     ]
    },
    {
     "name": "stdin",
     "output_type": "stream",
     "text": [
      "Enter Personal Id:  1\n",
      "Enter Name:  1\n",
      "Enter Birth year:  1\n",
      "Enter email:  1\n",
      "Enter salary cofficient:  1\n",
      "Enter position coefficient 1\n",
      "Do you want to continue (Y/N)? N\n"
     ]
    },
    {
     "name": "stdout",
     "output_type": "stream",
     "text": [
      "\n",
      "HUMAN RESOURCES MANAGEMENT PROGRAM:\n",
      "\n",
      "1. Enter personnel information\n",
      "\n",
      "2. Personnel statistics\n",
      "\n",
      "3. Highest salary\n",
      "\n",
      "4. Exit\n"
     ]
    },
    {
     "name": "stdin",
     "output_type": "stream",
     "text": [
      "Enter your choice:  4\n"
     ]
    },
    {
     "name": "stdout",
     "output_type": "stream",
     "text": [
      "Exiting Human Resources Management Program\n"
     ]
    }
   ],
   "source": [
    "listPerson = []\n",
    "def createPersonnel():\n",
    "    while True:\n",
    "        print(\"Personnel information: \\n\")\n",
    "        print(\"1. Managers\\n\")\n",
    "        print(\"2. Employees\\n\")\n",
    "        manOrEmp = input(\"Choice: \")\n",
    "        if manOrEmp=='1':\n",
    "            print(\"\\nInformation for Manager:\\n\")\n",
    "            personalId = input(\"Enter Personal Id: \")\n",
    "            name = input(\"Enter Name: \")\n",
    "            birthYear = input(\"Enter Birth year: \")\n",
    "            email = input(\"Enter email: \")\n",
    "            salaryCoff = input(\"Enter salary cofficient: \")\n",
    "            positionCoefficient = input(\"Enter position coefficient\")\n",
    "            manager = Managers(personalId, name, birthYear, email, salaryCoff, positionCoefficient)\n",
    "            listPerson.append(manager)\n",
    "        elif manOrEmp=='2':\n",
    "            print(\"\\nInformation for Employee:\\n\")\n",
    "            personalId = input(\"Enter Personal Id: \")\n",
    "            name = input(\"Enter Name: \")\n",
    "            birthYear = input(\"Enter Birth year: \")\n",
    "            email = input(\"Enter email: \")\n",
    "            salaryCoff = input(\"Enter salary cofficient: \")\n",
    "            productionTeam = input(\"Enter position coefficient\")\n",
    "            employee = Employees(personalId, name, birthYear, email, salaryCoff, productionTeam)\n",
    "            listPerson.append(employee)\n",
    "        else:\n",
    "            print(\"Please Enter choice again: \")\n",
    "        yesOrNo = input(\"Do you want to continue (Y/N)?\")\n",
    "        if (yesOrNo == \"N\"):\n",
    "            break\n",
    "\n",
    "def personStatic():\n",
    "    pass\n",
    "\n",
    "def highestSalary():\n",
    "    pass\n",
    "    \n",
    "def runProgram():\n",
    "    while True:\n",
    "        print(\"\\nHUMAN RESOURCES MANAGEMENT PROGRAM:\\n\")\n",
    "        print(\"1. Enter personnel information\\n\")\n",
    "        print(\"2. Personnel statistics\\n\")\n",
    "        print(\"3. Highest salary\\n\")\n",
    "        print(\"4. Exit\")\n",
    "\n",
    "        n = input(\"Enter your choice: \")\n",
    "\n",
    "        if n == '1':\n",
    "            createPersonnel()\n",
    "        elif n == '2':\n",
    "            pass4\n",
    "        elif n == '3':\n",
    "            pass\n",
    "        elif n == '4':\n",
    "            print(\"Exiting Human Resources Management Program\")\n",
    "            break\n",
    "        else:\n",
    "            print(\"Invalid choice. Please select a valid option.\")\n",
    "                \n",
    "if __name__ == \"__main__\":\n",
    "    runProgram()"
   ]
  },
  {
   "cell_type": "code",
   "execution_count": null,
   "id": "6553179c-9c16-478a-a290-0f0c3e3f1f66",
   "metadata": {},
   "outputs": [],
   "source": []
  }
 ],
 "metadata": {
  "kernelspec": {
   "display_name": "Python 3 (ipykernel)",
   "language": "python",
   "name": "python3"
  },
  "language_info": {
   "codemirror_mode": {
    "name": "ipython",
    "version": 3
   },
   "file_extension": ".py",
   "mimetype": "text/x-python",
   "name": "python",
   "nbconvert_exporter": "python",
   "pygments_lexer": "ipython3",
   "version": "3.11.5"
  }
 },
 "nbformat": 4,
 "nbformat_minor": 5
}
