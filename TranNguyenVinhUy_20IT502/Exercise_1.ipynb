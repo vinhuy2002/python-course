{
 "cells": [
  {
   "cell_type": "code",
   "execution_count": 1,
   "id": "5a6962d7-02f5-4dac-9da9-0696f1becaf6",
   "metadata": {},
   "outputs": [
    {
     "name": "stdout",
     "output_type": "stream",
     "text": [
      "The average score of all student:  84.33333333333333\n"
     ]
    }
   ],
   "source": [
    "# Exercise 1\n",
    "def average_score():\n",
    "    avg, sum, listAvg = 0, 0, []\n",
    "    f = open('student_data.txt', 'r')\n",
    "    for x in f:\n",
    "        listAvg.append(x.split())\n",
    "    for i in listAvg:\n",
    "        sum += int(i[1])\n",
    "    avg = sum/len(listAvg)\n",
    "    f.close()\n",
    "    return avg;\n",
    "if __name__ == \"__main__\":\n",
    "    student_data = [('Alice', 90), ('Bob', 85), ('Charlie', 78)]\n",
    "    with open('student_data.txt', 'w') as outputFile:\n",
    "        for i in student_data:\n",
    "            outputFile.write(f'{i[0]} {i[1]}\\n')\n",
    "    outputFile.close()\n",
    "    print(\"The average score of all student: \", average_score())"
   ]
  },
  {
   "cell_type": "code",
   "execution_count": null,
   "id": "73d6b3e5-528e-41a2-8250-c15fd1dbd106",
   "metadata": {},
   "outputs": [],
   "source": []
  }
 ],
 "metadata": {
  "kernelspec": {
   "display_name": "Python 3 (ipykernel)",
   "language": "python",
   "name": "python3"
  },
  "language_info": {
   "codemirror_mode": {
    "name": "ipython",
    "version": 3
   },
   "file_extension": ".py",
   "mimetype": "text/x-python",
   "name": "python",
   "nbconvert_exporter": "python",
   "pygments_lexer": "ipython3",
   "version": "3.11.5"
  }
 },
 "nbformat": 4,
 "nbformat_minor": 5
}
