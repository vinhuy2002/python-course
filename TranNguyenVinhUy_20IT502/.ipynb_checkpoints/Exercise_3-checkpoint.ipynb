{
 "cells": [
  {
   "cell_type": "code",
   "execution_count": 5,
   "id": "bb12207c-ca8e-4703-b1ad-77698f0acf46",
   "metadata": {},
   "outputs": [],
   "source": [
    "# Exercise 3\n",
    "class Person:\n",
    "    def __init__(self, personalId, name, birthYear, email, salaryCoefficient, personnelType):\n",
    "        self.__personalId = personalId\n",
    "        self.__name = name\n",
    "        self.__birthYear = birthYear\n",
    "        self.__email = email\n",
    "        self.__salaryCoefficient = salaryCoefficient\n",
    "        self.__personnelType = personnelType\n",
    "\n",
    "    @property\n",
    "    def personalId(self):\n",
    "        return self.__personalId\n",
    "    @personalId.setter\n",
    "    def personalId(self, personalId):\n",
    "        self.__personalId = personalId\n",
    "\n",
    "    @property\n",
    "    def name(self):\n",
    "        return self.__name\n",
    "    @name.setter\n",
    "    def name(self, name):\n",
    "        self.__name = name\n",
    "\n",
    "    @property\n",
    "    def birthYear(self):\n",
    "        return self.__birthYear\n",
    "    @birthYear.setter\n",
    "    def birthYear(self, birthYear):\n",
    "        self.__birthYear = birthYear\n",
    "\n",
    "    @property\n",
    "    def email(self):\n",
    "        return self.__email\n",
    "    @email.setter\n",
    "    def email(self, email):\n",
    "        self.__email = email\n",
    "\n",
    "    @property\n",
    "    def salaryCoefficient(self):\n",
    "        return self.__salaryCoefficient\n",
    "    @personalId.setter\n",
    "    def salaryCoefficient(self, salaryCoefficient):\n",
    "        self.__salaryCoefficient = salaryCoefficient\n",
    "\n",
    "    @property\n",
    "    def personnelType(self):\n",
    "        return self.__personnelType;\n",
    "    @personnelType.setter\n",
    "    def personnelType(self, personnelType):\n",
    "        self.__personnelType = personnelType\n",
    "\n",
    "class Managers(Person):\n",
    "    def __inti__(self, personalId, name, birthYear, email, salaryCoefficient, personnelType, positionCoefficient):\n",
    "        super().__init__(self, personalId, name, birthYear, email, salaryCoefficient, personnelType)\n",
    "        self.__positionCoefficient = positionCoefficient\n",
    "\n",
    "    @property\n",
    "    def positionCoefficient(self):\n",
    "        return self.__positionCoefficient\n",
    "    @positionCoefficient.setter\n",
    "    def positionCoefficient(self, positionCoefficient):\n",
    "        self.__positionCoefficient = positionCoefficient\n",
    "\n",
    "class Employees(Person):\n",
    "    def __inti__(self, personalId, name, birthYear, email, salaryCoefficient, personnelType, productionTeam):\n",
    "        super().__init__(self, personalId, name, birthYear, email, salaryCoefficient, personnelType)\n",
    "        self.__productionTeam = productionTeam\n",
    "\n",
    "    @property\n",
    "    def productionTeam(self):\n",
    "        return self.__productionTeam\n",
    "    @productionTeam.setter\n",
    "    def productionTeam(self, productionTeam):\n",
    "        self.__productionTeam = productionTeam"
   ]
  },
  {
   "cell_type": "code",
   "execution_count": 6,
   "id": "ff825ac8-629c-4111-8077-8d37e18b533a",
   "metadata": {},
   "outputs": [
    {
     "name": "stdout",
     "output_type": "stream",
     "text": [
      "\n",
      "HUMAN RESOURCES MANAGEMENT PROGRAM:\n",
      "\n",
      "1. Enter personnel information\n",
      "\n",
      "2. Personnel statistics\n",
      "\n",
      "3. Highest salary\n",
      "\n",
      "4. Exit\n"
     ]
    },
    {
     "name": "stdin",
     "output_type": "stream",
     "text": [
      "Enter your choice:  1\n"
     ]
    },
    {
     "name": "stdout",
     "output_type": "stream",
     "text": [
      "Personnel information: \n",
      "\n",
      "1. Managers\n",
      "\n",
      "2. Employees\n",
      "\n"
     ]
    },
    {
     "name": "stdin",
     "output_type": "stream",
     "text": [
      "Choice:  1\n"
     ]
    },
    {
     "name": "stdout",
     "output_type": "stream",
     "text": [
      "\n",
      "Information for Manager:\n",
      "\n"
     ]
    },
    {
     "name": "stdin",
     "output_type": "stream",
     "text": [
      "Enter Personal Id:  1\n",
      "Enter Name:  1\n",
      "Enter Birth year:  1\n",
      "Enter email:  1\n",
      "Enter salary cofficient:  1\n",
      "Enter position coefficient 1\n"
     ]
    },
    {
     "ename": "TypeError",
     "evalue": "Person.__init__() takes 7 positional arguments but 8 were given",
     "output_type": "error",
     "traceback": [
      "\u001b[1;31m---------------------------------------------------------------------------\u001b[0m",
      "\u001b[1;31mTypeError\u001b[0m                                 Traceback (most recent call last)",
      "Cell \u001b[1;32mIn[6], line 56\u001b[0m\n\u001b[0;32m     53\u001b[0m             \u001b[38;5;28mprint\u001b[39m(\u001b[38;5;124m\"\u001b[39m\u001b[38;5;124mInvalid choice. Please select a valid option.\u001b[39m\u001b[38;5;124m\"\u001b[39m)\n\u001b[0;32m     55\u001b[0m \u001b[38;5;28;01mif\u001b[39;00m \u001b[38;5;18m__name__\u001b[39m \u001b[38;5;241m==\u001b[39m \u001b[38;5;124m\"\u001b[39m\u001b[38;5;124m__main__\u001b[39m\u001b[38;5;124m\"\u001b[39m:\n\u001b[1;32m---> 56\u001b[0m     \u001b[43mrunProgram\u001b[49m\u001b[43m(\u001b[49m\u001b[43m)\u001b[49m\n",
      "Cell \u001b[1;32mIn[6], line 44\u001b[0m, in \u001b[0;36mrunProgram\u001b[1;34m()\u001b[0m\n\u001b[0;32m     41\u001b[0m n \u001b[38;5;241m=\u001b[39m \u001b[38;5;28minput\u001b[39m(\u001b[38;5;124m\"\u001b[39m\u001b[38;5;124mEnter your choice: \u001b[39m\u001b[38;5;124m\"\u001b[39m)\n\u001b[0;32m     43\u001b[0m \u001b[38;5;28;01mif\u001b[39;00m n \u001b[38;5;241m==\u001b[39m \u001b[38;5;124m'\u001b[39m\u001b[38;5;124m1\u001b[39m\u001b[38;5;124m'\u001b[39m:\n\u001b[1;32m---> 44\u001b[0m     \u001b[43mcreatePersonnel\u001b[49m\u001b[43m(\u001b[49m\u001b[43m)\u001b[49m\n\u001b[0;32m     45\u001b[0m \u001b[38;5;28;01melif\u001b[39;00m n \u001b[38;5;241m==\u001b[39m \u001b[38;5;124m'\u001b[39m\u001b[38;5;124m2\u001b[39m\u001b[38;5;124m'\u001b[39m:\n\u001b[0;32m     46\u001b[0m     \u001b[38;5;28;01mpass\u001b[39;00m\n",
      "Cell \u001b[1;32mIn[6], line 16\u001b[0m, in \u001b[0;36mcreatePersonnel\u001b[1;34m()\u001b[0m\n\u001b[0;32m     14\u001b[0m     salaryCoff \u001b[38;5;241m=\u001b[39m \u001b[38;5;28minput\u001b[39m(\u001b[38;5;124m\"\u001b[39m\u001b[38;5;124mEnter salary cofficient: \u001b[39m\u001b[38;5;124m\"\u001b[39m)\n\u001b[0;32m     15\u001b[0m     positionCoefficient \u001b[38;5;241m=\u001b[39m \u001b[38;5;28minput\u001b[39m(\u001b[38;5;124m\"\u001b[39m\u001b[38;5;124mEnter position coefficient\u001b[39m\u001b[38;5;124m\"\u001b[39m)\n\u001b[1;32m---> 16\u001b[0m     manager \u001b[38;5;241m=\u001b[39m \u001b[43mManagers\u001b[49m\u001b[43m(\u001b[49m\u001b[43mpersonalId\u001b[49m\u001b[43m,\u001b[49m\u001b[43m \u001b[49m\u001b[43mname\u001b[49m\u001b[43m,\u001b[49m\u001b[43m \u001b[49m\u001b[43mbirthYear\u001b[49m\u001b[43m,\u001b[49m\u001b[43m \u001b[49m\u001b[43memail\u001b[49m\u001b[43m,\u001b[49m\u001b[43m \u001b[49m\u001b[43msalaryCoff\u001b[49m\u001b[43m,\u001b[49m\u001b[43m \u001b[49m\u001b[38;5;241;43m1\u001b[39;49m\u001b[43m,\u001b[49m\u001b[43m \u001b[49m\u001b[43mpositionCoefficient\u001b[49m\u001b[43m)\u001b[49m\n\u001b[0;32m     17\u001b[0m     listPerson\u001b[38;5;241m.\u001b[39mappend(manager)\n\u001b[0;32m     18\u001b[0m \u001b[38;5;28;01melif\u001b[39;00m manOrEmp\u001b[38;5;241m==\u001b[39m\u001b[38;5;124m'\u001b[39m\u001b[38;5;124m2\u001b[39m\u001b[38;5;124m'\u001b[39m:\n",
      "\u001b[1;31mTypeError\u001b[0m: Person.__init__() takes 7 positional arguments but 8 were given"
     ]
    }
   ],
   "source": [
    "listPerson = []\n",
    "def createPersonnel():\n",
    "    while True:\n",
    "        print(\"Personnel information: \\n\")\n",
    "        print(\"1. Managers\\n\")\n",
    "        print(\"2. Employees\\n\")\n",
    "        manOrEmp = input(\"Choice: \")\n",
    "        if manOrEmp=='1':\n",
    "            print(\"\\nInformation for Manager:\\n\")\n",
    "            personalId = input(\"Enter Personal Id: \")\n",
    "            name = input(\"Enter Name: \")\n",
    "            birthYear = input(\"Enter Birth year: \")\n",
    "            email = input(\"Enter email: \")\n",
    "            salaryCoff = input(\"Enter salary cofficient: \")\n",
    "            positionCoefficient = input(\"Enter position coefficient\")\n",
    "            manager = Managers(personalId, name, birthYear, email, salaryCoff, positionCoefficient)\n",
    "            listPerson.append(manager)\n",
    "        elif manOrEmp=='2':\n",
    "            print(\"\\nInformation for Employee:\\n\")\n",
    "            personalId = input(\"Enter Personal Id: \")\n",
    "            name = input(\"Enter Name: \")\n",
    "            birthYear = input(\"Enter Birth year: \")\n",
    "            email = input(\"Enter email: \")\n",
    "            salaryCoff = input(\"Enter salary cofficient: \")\n",
    "            productionTeam = input(\"Enter position coefficient\")\n",
    "            employee = Employees(personalId, name, birthYear, email, salaryCoff, 2, productionTeam)\n",
    "            listPerson.append(employee)\n",
    "        else:\n",
    "            print(\"Please Enter choice again: \")\n",
    "        yesOrNo = input(\"Do you want to continue (Y/N)?\")\n",
    "        if (yesOrNo == \"N\"):\n",
    "            break\n",
    "def runProgram():\n",
    "    while True:\n",
    "        print(\"\\nHUMAN RESOURCES MANAGEMENT PROGRAM:\\n\")\n",
    "        print(\"1. Enter personnel information\\n\")\n",
    "        print(\"2. Personnel statistics\\n\")\n",
    "        print(\"3. Highest salary\\n\")\n",
    "        print(\"4. Exit\")\n",
    "\n",
    "        n = input(\"Enter your choice: \")\n",
    "\n",
    "        if n == '1':\n",
    "            createPersonnel()\n",
    "        elif n == '2':\n",
    "            pass\n",
    "        elif n == '3':\n",
    "            pass\n",
    "        elif n == '4':\n",
    "            print(\"Exiting Human Resources Management Program\")\n",
    "            break\n",
    "        else:\n",
    "            print(\"Invalid choice. Please select a valid option.\")\n",
    "                \n",
    "if __name__ == \"__main__\":\n",
    "    runProgram()"
   ]
  },
  {
   "cell_type": "code",
   "execution_count": null,
   "id": "6553179c-9c16-478a-a290-0f0c3e3f1f66",
   "metadata": {},
   "outputs": [],
   "source": []
  }
 ],
 "metadata": {
  "kernelspec": {
   "display_name": "Python 3 (ipykernel)",
   "language": "python",
   "name": "python3"
  },
  "language_info": {
   "codemirror_mode": {
    "name": "ipython",
    "version": 3
   },
   "file_extension": ".py",
   "mimetype": "text/x-python",
   "name": "python",
   "nbconvert_exporter": "python",
   "pygments_lexer": "ipython3",
   "version": "3.11.5"
  }
 },
 "nbformat": 4,
 "nbformat_minor": 5
}
