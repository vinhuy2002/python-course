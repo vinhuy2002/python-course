{
 "cells": [
  {
   "cell_type": "code",
   "execution_count": 2,
   "id": "809f891b",
   "metadata": {},
   "outputs": [
    {
     "name": "stdout",
     "output_type": "stream",
     "text": [
      "length: 4\n",
      "height: 5\n",
      "area of a triangle:  10.0\n"
     ]
    }
   ],
   "source": [
    "# 2.1\n",
    "b = int(input(\"length: \"))\n",
    "h = int(input(\"height: \"))\n",
    "area = (b*h)/2\n",
    "print(\"area of a triangle: \", area)"
   ]
  },
  {
   "cell_type": "code",
   "execution_count": 4,
   "id": "01d4153c",
   "metadata": {},
   "outputs": [
    {
     "name": "stdout",
     "output_type": "stream",
     "text": [
      "Latitude 1: 50\n",
      "Longitude 1: 30\n",
      "Latitude 2: 60\n",
      "Longitude 2: 100\n",
      "Distance:  4375.025636888268  KM\n"
     ]
    }
   ],
   "source": [
    "# 2.2\n",
    "# \n",
    "import math\n",
    "lat1 = float(input(\"Latitude 1: \"))\n",
    "lon1 = float(input(\"Longitude 1: \"))\n",
    "\n",
    "lat2 = float(input(\"Latitude 2: \"))\n",
    "lon2 = float(input(\"Longitude 2: \"))\n",
    "\n",
    "radLat1 = math.radians(lat1)\n",
    "radLat2 = math.radians(lat2)\n",
    "radLon = math.radians(lon2-lon1)\n",
    "\n",
    "distance = math.acos(math.sin(radLat1)*math.sin(radLat2) + math.cos(radLat1)*math.cos(radLat2)*math.cos(radLon))*6371.01\n",
    "print(\"Distance: \", distance, \" KM\")"
   ]
  },
  {
   "cell_type": "code",
   "execution_count": 5,
   "id": "f34ff63f",
   "metadata": {},
   "outputs": [
    {
     "name": "stdout",
     "output_type": "stream",
     "text": [
      "Days: 3\n",
      "Hours: 3\n",
      "Minutes: 3\n",
      "Seconds: 60\n",
      "Total seconds:  270240\n"
     ]
    }
   ],
   "source": [
    "# 2.3\n",
    "days = int(input(\"Days: \"))\n",
    "hours = int(input(\"Hours: \"))\n",
    "minutes = int(input(\"Minutes: \"))\n",
    "seconds = int(input(\"Seconds: \"))\n",
    "\n",
    "totalSeconds = days*24*3600 + hours*3600 + minutes*60 + seconds\n",
    "print(\"Total seconds: \", totalSeconds)"
   ]
  },
  {
   "cell_type": "code",
   "execution_count": 6,
   "id": "43620c38",
   "metadata": {},
   "outputs": [
    {
     "name": "stdout",
     "output_type": "stream",
     "text": [
      "Celsius: 45\n",
      "Fahrenheit:  113.0\n",
      "Kelvin:  318.15\n"
     ]
    }
   ],
   "source": [
    "# 2.4\n",
    "celsius = float(input(\"Celsius: \"))\n",
    "\n",
    "print(\"Fahrenheit: \", celsius * (9/5) + 32)\n",
    "print(\"Kelvin: \", celsius + 273.15)"
   ]
  },
  {
   "cell_type": "code",
   "execution_count": 15,
   "id": "bc069b34",
   "metadata": {},
   "outputs": [
    {
     "name": "stdout",
     "output_type": "stream",
     "text": [
      "Color number: 900\n",
      "None\n"
     ]
    }
   ],
   "source": [
    "# 2.5\n",
    "color = int(input(\"Color number: \"))\n",
    "\n",
    "if (color < 380):\n",
    "    print(\"None\")\n",
    "elif (color < 450):\n",
    "    print(\"Violet\")\n",
    "elif (color < 495):\n",
    "    print(\"Blue\")\n",
    "elif (color < 570):\n",
    "    print(\"Green\")\n",
    "elif (color < 590):\n",
    "    print(\"Yellow\")\n",
    "elif (color < 620):\n",
    "    print(\"Orange\")\n",
    "elif (color <= 750):\n",
    "    print(\"Red\")\n",
    "else:\n",
    "    print(\"None\")"
   ]
  },
  {
   "cell_type": "code",
   "execution_count": 24,
   "id": "ee26e125",
   "metadata": {},
   "outputs": [
    {
     "name": "stdout",
     "output_type": "stream",
     "text": [
      "Celsius Fahrenheit\n",
      "0 \t 32.0\n",
      "10 \t 50.0\n",
      "20 \t 68.0\n",
      "30 \t 86.0\n",
      "40 \t 104.0\n",
      "50 \t 122.0\n",
      "60 \t 140.0\n",
      "70 \t 158.0\n",
      "80 \t 176.0\n",
      "90 \t 194.0\n",
      "100 \t 212.0\n"
     ]
    }
   ],
   "source": [
    "# 2.6\n",
    "print(\"Celsius Fahrenheit\")\n",
    "for i in range(0, 101, 10):\n",
    "    print(i, \"\\t\", i*1.8+32)"
   ]
  },
  {
   "cell_type": "code",
   "execution_count": 2,
   "id": "6a6595b2",
   "metadata": {
    "scrolled": true
   },
   "outputs": [
    {
     "name": "stdout",
     "output_type": "stream",
     "text": [
      "Height: 10\n",
      "*                                   *\n",
      "  *                               *\n",
      "    *                           *\n",
      "      *                       *\n",
      "        *                   *\n",
      "          *               *\n",
      "            *           *\n",
      "              *       *\n",
      "                *   *\n",
      "                  * \n"
     ]
    }
   ],
   "source": [
    "# 2.7\n",
    "n = int(input(\"Height: \"))\n",
    "for i in range(n):\n",
    "    for j in range(i):\n",
    "        print(' ', end=' ')\n",
    "    print('*', end=' ')\n",
    "    test = n-i\n",
    "    for j in range(test*2-3):\n",
    "        print(' ', end=' ')\n",
    "    if (i != n-1):\n",
    "        print('*')\n",
    "    else:\n",
    "        print()"
   ]
  },
  {
   "cell_type": "code",
   "execution_count": 9,
   "id": "f34b146a",
   "metadata": {},
   "outputs": [
    {
     "name": "stdout",
     "output_type": "stream",
     "text": [
      "Number of even numbers:  4\n",
      "Number of odd numbers:  5\n"
     ]
    }
   ],
   "source": [
    "# 2.8\n",
    "listNum = [1,2,3,4,5,6,7,8,9]\n",
    "odd, even = 0, 0\n",
    "for i in listNum:\n",
    "    if (i%2==0):\n",
    "        even+=1\n",
    "    else:\n",
    "        odd+=1\n",
    "print(\"Number of even numbers: \", even)\n",
    "print(\"Number of odd numbers: \", odd)"
   ]
  },
  {
   "cell_type": "code",
   "execution_count": 5,
   "id": "d6cb85ca",
   "metadata": {},
   "outputs": [
    {
     "name": "stdout",
     "output_type": "stream",
     "text": [
      "Largest number:  81\n"
     ]
    }
   ],
   "source": [
    "# 2.9\n",
    "listNum = [15,26,30,40,55,36,27,81,19]\n",
    "print(\"Largest number: \", max(listNum))"
   ]
  },
  {
   "cell_type": "code",
   "execution_count": 11,
   "id": "380d1b42",
   "metadata": {},
   "outputs": [
    {
     "name": "stdout",
     "output_type": "stream",
     "text": [
      "[40, 36, 27]\n"
     ]
    }
   ],
   "source": [
    "# 2.10\n",
    "L1 = [15,26,30,40,55,36,27,81,19]\n",
    "L2 = [16,28,31,40,56,36,27,80,29]\n",
    "myList = list()\n",
    "for i in L1:\n",
    "    if i in L2:\n",
    "        myList.append(i)\n",
    "print(myList)"
   ]
  },
  {
   "cell_type": "code",
   "execution_count": 1,
   "id": "bf8e87a8",
   "metadata": {
    "scrolled": true
   },
   "outputs": [
    {
     "name": "stdout",
     "output_type": "stream",
     "text": [
      "1\n",
      "2\n",
      "3\n",
      "4\n",
      "5\n",
      "6\n",
      "7\n",
      "8\n",
      "9\n",
      "0\n",
      "9\n",
      "8\n",
      "7\n",
      "6\n",
      "5\n",
      "4\n",
      "3\n",
      "2\n",
      "1\n"
     ]
    }
   ],
   "source": [
    "# 2.11\n",
    "ch = True\n",
    "myList = list()\n",
    "while (ch):\n",
    "    i = int(input())\n",
    "    if(i==0):\n",
    "        ch = False\n",
    "    else:\n",
    "        myList.append(i)\n",
    "\n",
    "myList.reverse()\n",
    "for i in myList:\n",
    "    print(i)"
   ]
  },
  {
   "cell_type": "code",
   "execution_count": 6,
   "id": "ec93d004",
   "metadata": {},
   "outputs": [
    {
     "name": "stdout",
     "output_type": "stream",
     "text": [
      "87\n"
     ]
    }
   ],
   "source": [
    "# 2.12\n",
    "myDict = {\n",
    "    \"banana\": 14,\n",
    "    \"orange\": 30,\n",
    "    \"cherry\": 28,\n",
    "    \"strawberry\": 15,\n",
    "}\n",
    "\n",
    "print(sum(myDict.values()))"
   ]
  },
  {
   "cell_type": "code",
   "execution_count": 8,
   "id": "d73b80bd",
   "metadata": {},
   "outputs": [
    {
     "name": "stdout",
     "output_type": "stream",
     "text": [
      "Input string: Hello VKUer!\n",
      "Hello VKUer!\n",
      "10\n"
     ]
    }
   ],
   "source": [
    "# 2.13\n",
    "str1 = str(input(\"Input string: \"))\n",
    "print(str1)\n",
    "uniqueChar = set(str1)\n",
    "print(len(uniqueChar))"
   ]
  },
  {
   "cell_type": "code",
   "execution_count": 10,
   "id": "9297a845",
   "metadata": {},
   "outputs": [
    {
     "name": "stdout",
     "output_type": "stream",
     "text": [
      "{'banana': 21.75, 'orange': 21.75, 'cherry': 21.75, 'strawberry': 21.75}\n"
     ]
    }
   ],
   "source": [
    "# 2.14\n",
    "myDict = {\n",
    "    \"banana\": 14,\n",
    "    \"orange\": 30,\n",
    "    \"cherry\": 28,\n",
    "    \"strawberry\": 15,\n",
    "}\n",
    "\n",
    "avg = sum(myDict.values())/len(myDict)\n",
    "for i in myDict:\n",
    "    myDict[i] = avg\n",
    "print(myDict)"
   ]
  },
  {
   "cell_type": "code",
   "execution_count": 13,
   "id": "f4a5ae0e",
   "metadata": {},
   "outputs": [
    {
     "name": "stdout",
     "output_type": "stream",
     "text": [
      "Don't exists\n"
     ]
    }
   ],
   "source": [
    "# 2.15\n",
    "myTuple = ('toan', 'ly', 'hoa', 'sinh', 'su', 'dia', 'gdcd')\n",
    "if 'gdtc' in myTuple:\n",
    "    print(\"Exists\")\n",
    "else:\n",
    "    print(\"Don't exists\")"
   ]
  },
  {
   "cell_type": "code",
   "execution_count": 27,
   "id": "0f2708db",
   "metadata": {},
   "outputs": [
    {
     "name": "stdout",
     "output_type": "stream",
     "text": [
      "('gdcd', 'dia', 'su', 'sinh', 'hoa', 'ly', 'toan')\n"
     ]
    }
   ],
   "source": [
    "# 2.16\n",
    "myTuple = ('toan', 'ly', 'hoa', 'sinh', 'su', 'dia', 'gdcd')\n",
    "test = list(myTuple)\n",
    "test.reverse()\n",
    "a = tuple(test)\n",
    "print(a)"
   ]
  },
  {
   "cell_type": "code",
   "execution_count": 35,
   "id": "bb2208fb",
   "metadata": {},
   "outputs": [
    {
     "name": "stdout",
     "output_type": "stream",
     "text": [
      "Max number:  93\n",
      "Min number:  -9\n"
     ]
    }
   ],
   "source": [
    "# 2.17\n",
    "mySets = {12, 3, 5, 93, 20, 6, -9}\n",
    "print(\"Max number: \", max(mySets))\n",
    "print(\"Min number: \", min(mySets))"
   ]
  },
  {
   "cell_type": "code",
   "execution_count": 46,
   "id": "0e87750b",
   "metadata": {},
   "outputs": [
    {
     "name": "stdout",
     "output_type": "stream",
     "text": [
      "{'math', 'dragonfruit', 'mango', 'apple', 'banana', 'cherry'}\n",
      "{'banana', 'cherry'}\n",
      "False\n"
     ]
    }
   ],
   "source": [
    "# 2.18\n",
    "setA = {\"banana\", \"cherry\", \"mango\", \"dragonfruit\", \"apple\", \"math\"}\n",
    "setB = {\"banana\", \"cherry\"}\n",
    "\n",
    "chk = setB.issuperset(setA)\n",
    "print(setA)\n",
    "print(setB)\n",
    "print(chk)"
   ]
  },
  {
   "cell_type": "code",
   "execution_count": 48,
   "id": "5e3e8b7e",
   "metadata": {},
   "outputs": [
    {
     "name": "stdout",
     "output_type": "stream",
     "text": [
      "{1, 2, 3} {4, 5, 6, 7, 8}\n"
     ]
    }
   ],
   "source": [
    "# 2.19\n",
    "setA = {1, 2, 3, 4, 5}\n",
    "setB = {4, 5, 6, 7, 8}\n",
    "\n",
    "setA.difference_update(setB)\n",
    "print(setA, setB)"
   ]
  },
  {
   "cell_type": "code",
   "execution_count": 49,
   "id": "4370f9b6",
   "metadata": {},
   "outputs": [
    {
     "name": "stdout",
     "output_type": "stream",
     "text": [
      "128\n"
     ]
    }
   ],
   "source": [
    "# 2.20\n",
    "listA = [9, 1, 2, -1, 8, 2, 4]\n",
    "mul = 1\n",
    "for i in listA:\n",
    "    if (i % 2 == 0 ):\n",
    "        mul *=i\n",
    "print(mul)"
   ]
  },
  {
   "cell_type": "code",
   "execution_count": null,
   "id": "b56ccfae",
   "metadata": {},
   "outputs": [],
   "source": []
  }
 ],
 "metadata": {
  "kernelspec": {
   "display_name": "Python 3 (ipykernel)",
   "language": "python",
   "name": "python3"
  },
  "language_info": {
   "codemirror_mode": {
    "name": "ipython",
    "version": 3
   },
   "file_extension": ".py",
   "mimetype": "text/x-python",
   "name": "python",
   "nbconvert_exporter": "python",
   "pygments_lexer": "ipython3",
   "version": "3.11.4"
  }
 },
 "nbformat": 4,
 "nbformat_minor": 5
}
